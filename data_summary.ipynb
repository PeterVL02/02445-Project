{
 "cells": [
  {
   "cell_type": "code",
   "execution_count": 53,
   "metadata": {},
   "outputs": [],
   "source": [
    "import data_structure as ds\n",
    "from data_structure import Gender\n",
    "import pandas as pd\n",
    "import numpy as np\n",
    "import matplotlib.pyplot as plt\n",
    "import seaborn as sns\n",
    "from sklearn.preprocessing import StandardScaler\n",
    "from scipy.stats import mannwhitneyu"
   ]
  },
  {
   "cell_type": "code",
   "execution_count": 54,
   "metadata": {},
   "outputs": [
    {
     "data": {
      "text/plain": [
       "(deserved_salary\n",
       " 110.0    50\n",
       " 100.0    18\n",
       " 95.0     15\n",
       " 105.0    14\n",
       " 115.0     6\n",
       " 120.0     2\n",
       " Name: count, dtype: int64,\n",
       " deserved_salary\n",
       " 100.0    34\n",
       " 110.0    23\n",
       " 95.0     20\n",
       " 105.0    16\n",
       " 115.0     2\n",
       " Name: count, dtype: int64)"
      ]
     },
     "execution_count": 54,
     "metadata": {},
     "output_type": "execute_result"
    }
   ],
   "source": [
    "df = ds.get_model('Pilot')\n",
    "\n",
    "df_male, df_female = ds.get_gender(df)\n",
    "\n",
    "df_male.value_counts('deserved_salary'), df_female.value_counts('deserved_salary')"
   ]
  },
  {
   "cell_type": "code",
   "execution_count": 70,
   "metadata": {},
   "outputs": [
    {
     "data": {
      "text/plain": [
       "(deserved_salary\n",
       " 95.0     35\n",
       " 100.0    52\n",
       " 105.0    30\n",
       " 110.0    73\n",
       " 115.0     8\n",
       " 120.0     2\n",
       " Name: count, dtype: int64,\n",
       " current_salary\n",
       " 80.0      2\n",
       " 85.0    165\n",
       " 90.0      1\n",
       " 92.5      1\n",
       " 95.0     31\n",
       " Name: count, dtype: int64)"
      ]
     },
     "execution_count": 70,
     "metadata": {},
     "output_type": "execute_result"
    }
   ],
   "source": [
    "df.value_counts('deserved_salary').sort_index(), df.value_counts('current_salary').sort_index()"
   ]
  },
  {
   "cell_type": "code",
   "execution_count": null,
   "metadata": {},
   "outputs": [],
   "source": [
    "pl, pm, ph = 73/len(df), 52/len(df), (30+35+8+2)/len(df)"
   ]
  },
  {
   "cell_type": "code",
   "execution_count": 66,
   "metadata": {},
   "outputs": [
    {
     "data": {
      "text/plain": [
       "391.9999999999999"
      ]
     },
     "execution_count": 66,
     "metadata": {},
     "output_type": "execute_result"
    }
   ],
   "source": [
    "p = 0.5\n",
    "\n",
    "2 * p*(1-p) * (.84 + 1.96)**2 / .1**2\n",
    "\n",
    "\n",
    "# 2*np.arcsin(np.sqrt(p)) - 2*np.arcsin(np.sqrt(1-p))"
   ]
  }
 ],
 "metadata": {
  "kernelspec": {
   "display_name": "02445",
   "language": "python",
   "name": "python3"
  },
  "language_info": {
   "codemirror_mode": {
    "name": "ipython",
    "version": 3
   },
   "file_extension": ".py",
   "mimetype": "text/x-python",
   "name": "python",
   "nbconvert_exporter": "python",
   "pygments_lexer": "ipython3",
   "version": "3.12.3"
  }
 },
 "nbformat": 4,
 "nbformat_minor": 2
}
