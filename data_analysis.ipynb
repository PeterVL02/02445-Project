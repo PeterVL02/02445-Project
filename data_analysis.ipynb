{
 "cells": [
  {
   "cell_type": "code",
   "execution_count": 2,
   "metadata": {},
   "outputs": [
    {
     "name": "stderr",
     "output_type": "stream",
     "text": [
      "INFO:root:Running safety check on commit\n",
      "INFO:root:Successfully ran safety check on commit\n",
      "INFO:root:Running safety check on merge_databases\n",
      "INFO:root:Successfully ran safety check on merge_databases\n",
      "INFO:root:Running safety check on commit_multiple\n",
      "INFO:root:Successfully ran safety check on commit_multiple\n",
      "INFO:root:Dataframe provided, ignoring user Peter\n",
      "INFO:root:Locating current_salary for males in all's database\n",
      "INFO:root:Dataframe provided, ignoring user Peter\n",
      "INFO:root:Locating current_salary for females in all's database\n"
     ]
    },
    {
     "data": {
      "text/plain": [
       "(87.69047619047619, 85.3157894736842)"
      ]
     },
     "execution_count": 2,
     "metadata": {},
     "output_type": "execute_result"
    }
   ],
   "source": [
    "import data_structure as ds\n",
    "from data_structure import Gender\n",
    "import numpy as np\n",
    "\n",
    "men_curr = ds.locate('Peter',\n",
    "          column='current_salary',\n",
    "          gender=Gender.Male,\n",
    "          dataframe=ds.search_all())\n",
    "\n",
    "female_curr = ds.locate('Peter',\n",
    "            column='current_salary',\n",
    "            gender=Gender.Female,\n",
    "            dataframe=ds.search_all())\n",
    "\n",
    "np.mean(men_curr), np.mean(female_curr)"
   ]
  },
  {
   "cell_type": "code",
   "execution_count": 3,
   "metadata": {},
   "outputs": [
    {
     "name": "stderr",
     "output_type": "stream",
     "text": [
      "INFO:root:Dataframe provided, ignoring user Peter\n",
      "INFO:root:Locating deserved_salary for males in all's database\n",
      "INFO:root:Dataframe provided, ignoring user Peter\n",
      "INFO:root:Locating deserved_salary for females in all's database\n"
     ]
    },
    {
     "data": {
      "text/plain": [
       "(105.95238095238095, 102.52631578947368)"
      ]
     },
     "execution_count": 3,
     "metadata": {},
     "output_type": "execute_result"
    }
   ],
   "source": [
    "men_deserved = ds.locate('Peter',\n",
    "          column='deserved_salary',\n",
    "          gender=Gender.Male,\n",
    "          dataframe=ds.search_all())\n",
    "\n",
    "female_deserved = ds.locate('Peter',\n",
    "            column='deserved_salary',\n",
    "            gender=Gender.Female,\n",
    "            dataframe=ds.search_all())\n",
    "\n",
    "np.mean(men_deserved), np.mean(female_deserved)\n",
    "                         "
   ]
  },
  {
   "cell_type": "code",
   "execution_count": 4,
   "metadata": {},
   "outputs": [
    {
     "data": {
      "text/html": [
       "<div>\n",
       "<style scoped>\n",
       "    .dataframe tbody tr th:only-of-type {\n",
       "        vertical-align: middle;\n",
       "    }\n",
       "\n",
       "    .dataframe tbody tr th {\n",
       "        vertical-align: top;\n",
       "    }\n",
       "\n",
       "    .dataframe thead th {\n",
       "        text-align: right;\n",
       "    }\n",
       "</style>\n",
       "<table border=\"1\" class=\"dataframe\">\n",
       "  <thead>\n",
       "    <tr style=\"text-align: right;\">\n",
       "      <th></th>\n",
       "      <th>deserved_salary</th>\n",
       "      <th>current_salary</th>\n",
       "    </tr>\n",
       "    <tr>\n",
       "      <th>name</th>\n",
       "      <th></th>\n",
       "      <th></th>\n",
       "    </tr>\n",
       "  </thead>\n",
       "  <tbody>\n",
       "    <tr>\n",
       "      <th>John</th>\n",
       "      <td>110.500000</td>\n",
       "      <td>92.000000</td>\n",
       "    </tr>\n",
       "    <tr>\n",
       "      <th>Richard</th>\n",
       "      <td>109.000000</td>\n",
       "      <td>88.000000</td>\n",
       "    </tr>\n",
       "    <tr>\n",
       "      <th>William</th>\n",
       "      <td>108.000000</td>\n",
       "      <td>89.500000</td>\n",
       "    </tr>\n",
       "    <tr>\n",
       "      <th>Michael</th>\n",
       "      <td>106.500000</td>\n",
       "      <td>88.000000</td>\n",
       "    </tr>\n",
       "    <tr>\n",
       "      <th>Christopher</th>\n",
       "      <td>106.333333</td>\n",
       "      <td>88.833333</td>\n",
       "    </tr>\n",
       "    <tr>\n",
       "      <th>Jessica</th>\n",
       "      <td>106.000000</td>\n",
       "      <td>87.000000</td>\n",
       "    </tr>\n",
       "    <tr>\n",
       "      <th>Thomas</th>\n",
       "      <td>105.500000</td>\n",
       "      <td>87.000000</td>\n",
       "    </tr>\n",
       "    <tr>\n",
       "      <th>Robert</th>\n",
       "      <td>104.500000</td>\n",
       "      <td>86.000000</td>\n",
       "    </tr>\n",
       "    <tr>\n",
       "      <th>David</th>\n",
       "      <td>104.000000</td>\n",
       "      <td>86.000000</td>\n",
       "    </tr>\n",
       "    <tr>\n",
       "      <th>Elizabeth</th>\n",
       "      <td>104.000000</td>\n",
       "      <td>86.000000</td>\n",
       "    </tr>\n",
       "    <tr>\n",
       "      <th>James</th>\n",
       "      <td>104.000000</td>\n",
       "      <td>86.000000</td>\n",
       "    </tr>\n",
       "    <tr>\n",
       "      <th>Karen</th>\n",
       "      <td>103.500000</td>\n",
       "      <td>85.000000</td>\n",
       "    </tr>\n",
       "    <tr>\n",
       "      <th>Jennifer</th>\n",
       "      <td>102.500000</td>\n",
       "      <td>85.000000</td>\n",
       "    </tr>\n",
       "    <tr>\n",
       "      <th>Barbara</th>\n",
       "      <td>102.500000</td>\n",
       "      <td>85.000000</td>\n",
       "    </tr>\n",
       "    <tr>\n",
       "      <th>Sarah</th>\n",
       "      <td>102.000000</td>\n",
       "      <td>85.000000</td>\n",
       "    </tr>\n",
       "    <tr>\n",
       "      <th>Patricia</th>\n",
       "      <td>101.500000</td>\n",
       "      <td>85.000000</td>\n",
       "    </tr>\n",
       "    <tr>\n",
       "      <th>Linda</th>\n",
       "      <td>101.500000</td>\n",
       "      <td>85.000000</td>\n",
       "    </tr>\n",
       "    <tr>\n",
       "      <th>Joseph</th>\n",
       "      <td>101.000000</td>\n",
       "      <td>85.000000</td>\n",
       "    </tr>\n",
       "    <tr>\n",
       "      <th>Susan</th>\n",
       "      <td>100.333333</td>\n",
       "      <td>85.000000</td>\n",
       "    </tr>\n",
       "  </tbody>\n",
       "</table>\n",
       "</div>"
      ],
      "text/plain": [
       "             deserved_salary  current_salary\n",
       "name                                        \n",
       "John              110.500000       92.000000\n",
       "Richard           109.000000       88.000000\n",
       "William           108.000000       89.500000\n",
       "Michael           106.500000       88.000000\n",
       "Christopher       106.333333       88.833333\n",
       "Jessica           106.000000       87.000000\n",
       "Thomas            105.500000       87.000000\n",
       "Robert            104.500000       86.000000\n",
       "David             104.000000       86.000000\n",
       "Elizabeth         104.000000       86.000000\n",
       "James             104.000000       86.000000\n",
       "Karen             103.500000       85.000000\n",
       "Jennifer          102.500000       85.000000\n",
       "Barbara           102.500000       85.000000\n",
       "Sarah             102.000000       85.000000\n",
       "Patricia          101.500000       85.000000\n",
       "Linda             101.500000       85.000000\n",
       "Joseph            101.000000       85.000000\n",
       "Susan             100.333333       85.000000"
      ]
     },
     "execution_count": 4,
     "metadata": {},
     "output_type": "execute_result"
    }
   ],
   "source": [
    "df = ds.search_all()\n",
    "df.groupby('name')[['deserved_salary', 'current_salary']].mean().sort_values('deserved_salary', ascending=False)"
   ]
  },
  {
   "cell_type": "code",
   "execution_count": 5,
   "metadata": {},
   "outputs": [
    {
     "data": {
      "text/plain": [
       "<AxesSubplot: xlabel='deserved_salary', ylabel='Count'>"
      ]
     },
     "execution_count": 5,
     "metadata": {},
     "output_type": "execute_result"
    },
    {
     "data": {
      "image/png": "[encoded data removed]",
      "text/plain": [
       "<Figure size 640x480 with 1 Axes>"
      ]
     },
     "metadata": {},
     "output_type": "display_data"
    }
   ],
   "source": [
    "import seaborn as sns\n",
    "\n",
    "# sns.histplot(data=df.groupby('gender')['deserved_salary'])\n",
    "\n",
    "m_mask = df['gender'] == Gender.Male\n",
    "f_mask = df['gender'] == Gender.Female\n",
    "\n",
    "df_men, df_fem = df[m_mask], df[f_mask]\n",
    "\n",
    "sns.histplot(data=df[m_mask]['deserved_salary'], color='blue', bins=10)\n",
    "sns.histplot(data=df[f_mask]['deserved_salary'], color='red', bins=10)"
   ]
  },
  {
   "cell_type": "code",
   "execution_count": 6,
   "metadata": {},
   "outputs": [
    {
     "data": {
      "text/plain": [
       "<AxesSubplot: xlabel='current_salary', ylabel='Count'>"
      ]
     },
     "execution_count": 6,
     "metadata": {},
     "output_type": "execute_result"
    },
    {
     "data": {
      "image/png": "[encoded data removed]",
      "text/plain": [
       "<Figure size 640x480 with 1 Axes>"
      ]
     },
     "metadata": {},
     "output_type": "display_data"
    }
   ],
   "source": [
    "sns.histplot(data=df[m_mask]['current_salary'], color='blue', bins=10)\n",
    "sns.histplot(data=df[f_mask]['current_salary'], color='red', bins=10)"
   ]
  },
  {
   "cell_type": "code",
   "execution_count": 7,
   "metadata": {},
   "outputs": [
    {
     "data": {
      "text/plain": [
       "TtestResult(statistic=4.756213358809789, pvalue=3.793483062014191e-06, df=198.0)"
      ]
     },
     "execution_count": 7,
     "metadata": {},
     "output_type": "execute_result"
    }
   ],
   "source": [
    "from scipy.stats import ttest_ind\n",
    "\n",
    "ttest_ind(df[m_mask]['deserved_salary'], df[f_mask]['deserved_salary'])\n",
    "ttest_ind(df[m_mask]['current_salary'], df[f_mask]['current_salary'])"
   ]
  },
  {
   "cell_type": "code",
   "execution_count": 8,
   "metadata": {},
   "outputs": [
    {
     "data": {
      "text/plain": [
       "0.5682099507168042"
      ]
     },
     "execution_count": 8,
     "metadata": {},
     "output_type": "execute_result"
    }
   ],
   "source": [
    "spooled = np.sqrt(\n",
    "    (\n",
    "        ((len(df_men)-1)*df_men['deserved_salary'].std()**2) + \n",
    "    ((len(df_fem)-1)*df_fem['deserved_salary'].std()**2)\n",
    "    ) / (len(df_men) + len(df_fem) - 2)\n",
    "    )\n",
    "\n",
    "\n",
    "\n",
    "cohen_d = (df[m_mask]['deserved_salary'].mean() - df[f_mask]['deserved_salary'].mean()) / spooled\n",
    "cohen_d"
   ]
  },
  {
   "cell_type": "code",
   "execution_count": 9,
   "metadata": {},
   "outputs": [
    {
     "data": {
      "text/plain": [
       "150.53482238146546"
      ]
     },
     "execution_count": 9,
     "metadata": {},
     "output_type": "execute_result"
    }
   ],
   "source": [
    "import statsmodels.stats.power as smp\n",
    "\n",
    "effect_size = cohen_d\n",
    "alpha = 0.01\n",
    "power = 0.99\n",
    "\n",
    "nobs1 = smp.tt_ind_solve_power(effect_size=effect_size, alpha=alpha, power=power, alternative='two-sided')\n",
    "nobs1\n"
   ]
  },
  {
   "cell_type": "code",
   "execution_count": 11,
   "metadata": {},
   "outputs": [
    {
     "data": {
      "text/plain": [
       "<AxesSubplot: xlabel='deserved_salary', ylabel='Count'>"
      ]
     },
     "execution_count": 11,
     "metadata": {},
     "output_type": "execute_result"
    },
    {
     "data": {
      "image/png": "[encoded data removed]",
      "text/plain": [
       "<Figure size 640x480 with 1 Axes>"
      ]
     },
     "metadata": {},
     "output_type": "display_data"
    }
   ],
   "source": [
    "df['gender_str'] = df['gender'].apply(lambda x: x.name)\n",
    "\n",
    "# Now use 'gender_str' for the 'hue' parameter\n",
    "sns.histplot(df, x='deserved_salary', hue='gender_str')"
   ]
  }
 ],
 "metadata": {
  "kernelspec": {
   "display_name": "mldm",
   "language": "python",
   "name": "python3"
  },
  "language_info": {
   "codemirror_mode": {
    "name": "ipython",
    "version": 3
   },
   "file_extension": ".py",
   "mimetype": "text/x-python",
   "name": "python",
   "nbconvert_exporter": "python",
   "pygments_lexer": "ipython3",
   "version": "3.11.7"
  }
 },
 "nbformat": 4,
 "nbformat_minor": 2
}
