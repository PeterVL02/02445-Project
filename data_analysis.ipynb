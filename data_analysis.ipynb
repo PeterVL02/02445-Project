{
 "cells": [
  {
   "cell_type": "code",
   "execution_count": 1,
   "metadata": {},
   "outputs": [
    {
     "name": "stderr",
     "output_type": "stream",
     "text": [
      "INFO:root:Dataframe provided, ignoring user Peter\n",
      "INFO:root:Locating current_salary for males in all's database\n",
      "INFO:root:Dataframe provided, ignoring user Peter\n",
      "INFO:root:Locating current_salary for females in all's database\n"
     ]
    },
    {
     "data": {
      "text/plain": [
       "(np.float64(72.7200996677741), np.float64(71.42617147707979))"
      ]
     },
     "execution_count": 1,
     "metadata": {},
     "output_type": "execute_result"
    }
   ],
   "source": [
    "import data_structure as ds\n",
    "from data_structure import Gender\n",
    "import numpy as np\n",
    "import matplotlib.pyplot as plt\n",
    "from sklearn.preprocessing import StandardScaler\n",
    "\n",
    "men_curr = ds.locate('Peter',\n",
    "          column='current_salary',\n",
    "          gender=Gender.Male,\n",
    "          dataframe=ds.search_all())\n",
    "\n",
    "female_curr = ds.locate('Peter',\n",
    "            column='current_salary',\n",
    "            gender=Gender.Female,\n",
    "            dataframe=ds.search_all())\n",
    "\n",
    "np.mean(men_curr), np.mean(female_curr)"
   ]
  },
  {
   "cell_type": "code",
   "execution_count": 2,
   "metadata": {},
   "outputs": [
    {
     "name": "stderr",
     "output_type": "stream",
     "text": [
      "INFO:root:Dataframe provided, ignoring user Peter\n",
      "INFO:root:Locating deserved_salary for males in all's database\n",
      "INFO:root:Dataframe provided, ignoring user Peter\n",
      "INFO:root:Locating deserved_salary for females in all's database\n"
     ]
    },
    {
     "data": {
      "text/plain": [
       "(np.float64(89.26079734219269), np.float64(87.58913412563668))"
      ]
     },
     "execution_count": 2,
     "metadata": {},
     "output_type": "execute_result"
    }
   ],
   "source": [
    "men_deserved = ds.locate('Peter',\n",
    "          column='deserved_salary',\n",
    "          gender=Gender.Male,\n",
    "          dataframe=ds.search_all())\n",
    "\n",
    "female_deserved = ds.locate('Peter',\n",
    "            column='deserved_salary',\n",
    "            gender=Gender.Female,\n",
    "            dataframe=ds.search_all())\n",
    "\n",
    "np.mean(men_deserved), np.mean(female_deserved)\n",
    "                         "
   ]
  },
  {
   "cell_type": "code",
   "execution_count": 3,
   "metadata": {},
   "outputs": [
    {
     "data": {
      "text/html": [
       "<div>\n",
       "<style scoped>\n",
       "    .dataframe tbody tr th:only-of-type {\n",
       "        vertical-align: middle;\n",
       "    }\n",
       "\n",
       "    .dataframe tbody tr th {\n",
       "        vertical-align: top;\n",
       "    }\n",
       "\n",
       "    .dataframe thead th {\n",
       "        text-align: right;\n",
       "    }\n",
       "</style>\n",
       "<table border=\"1\" class=\"dataframe\">\n",
       "  <thead>\n",
       "    <tr style=\"text-align: right;\">\n",
       "      <th></th>\n",
       "      <th>deserved_salary</th>\n",
       "      <th>current_salary</th>\n",
       "    </tr>\n",
       "    <tr>\n",
       "      <th>name</th>\n",
       "      <th></th>\n",
       "      <th></th>\n",
       "    </tr>\n",
       "  </thead>\n",
       "  <tbody>\n",
       "    <tr>\n",
       "      <th>Michael</th>\n",
       "      <td>90.500000</td>\n",
       "      <td>73.833333</td>\n",
       "    </tr>\n",
       "    <tr>\n",
       "      <th>John</th>\n",
       "      <td>89.833333</td>\n",
       "      <td>73.333333</td>\n",
       "    </tr>\n",
       "    <tr>\n",
       "      <th>William</th>\n",
       "      <td>89.830508</td>\n",
       "      <td>73.644068</td>\n",
       "    </tr>\n",
       "    <tr>\n",
       "      <th>Joseph</th>\n",
       "      <td>89.750000</td>\n",
       "      <td>73.000000</td>\n",
       "    </tr>\n",
       "    <tr>\n",
       "      <th>Robert</th>\n",
       "      <td>89.583333</td>\n",
       "      <td>73.250000</td>\n",
       "    </tr>\n",
       "    <tr>\n",
       "      <th>Christopher</th>\n",
       "      <td>89.538462</td>\n",
       "      <td>73.192308</td>\n",
       "    </tr>\n",
       "    <tr>\n",
       "      <th>Richard</th>\n",
       "      <td>88.983051</td>\n",
       "      <td>71.949153</td>\n",
       "    </tr>\n",
       "    <tr>\n",
       "      <th>Jessica</th>\n",
       "      <td>88.793103</td>\n",
       "      <td>72.413793</td>\n",
       "    </tr>\n",
       "    <tr>\n",
       "      <th>Karen</th>\n",
       "      <td>88.448276</td>\n",
       "      <td>72.155172</td>\n",
       "    </tr>\n",
       "    <tr>\n",
       "      <th>David</th>\n",
       "      <td>88.416667</td>\n",
       "      <td>71.916667</td>\n",
       "    </tr>\n",
       "    <tr>\n",
       "      <th>Thomas</th>\n",
       "      <td>88.333333</td>\n",
       "      <td>71.916667</td>\n",
       "    </tr>\n",
       "    <tr>\n",
       "      <th>Elizabeth</th>\n",
       "      <td>88.166667</td>\n",
       "      <td>71.833333</td>\n",
       "    </tr>\n",
       "    <tr>\n",
       "      <th>Linda</th>\n",
       "      <td>88.135593</td>\n",
       "      <td>70.762966</td>\n",
       "    </tr>\n",
       "    <tr>\n",
       "      <th>Susan</th>\n",
       "      <td>87.846154</td>\n",
       "      <td>72.000000</td>\n",
       "    </tr>\n",
       "    <tr>\n",
       "      <th>Barbara</th>\n",
       "      <td>87.833333</td>\n",
       "      <td>72.083333</td>\n",
       "    </tr>\n",
       "    <tr>\n",
       "      <th>James</th>\n",
       "      <td>87.796610</td>\n",
       "      <td>71.101695</td>\n",
       "    </tr>\n",
       "    <tr>\n",
       "      <th>Patricia</th>\n",
       "      <td>87.583333</td>\n",
       "      <td>71.916667</td>\n",
       "    </tr>\n",
       "    <tr>\n",
       "      <th>Jennifer</th>\n",
       "      <td>87.583333</td>\n",
       "      <td>71.583333</td>\n",
       "    </tr>\n",
       "    <tr>\n",
       "      <th>Sarah</th>\n",
       "      <td>87.166667</td>\n",
       "      <td>71.083333</td>\n",
       "    </tr>\n",
       "    <tr>\n",
       "      <th>Mary</th>\n",
       "      <td>83.673469</td>\n",
       "      <td>67.755102</td>\n",
       "    </tr>\n",
       "  </tbody>\n",
       "</table>\n",
       "</div>"
      ],
      "text/plain": [
       "             deserved_salary  current_salary\n",
       "name                                        \n",
       "Michael            90.500000       73.833333\n",
       "John               89.833333       73.333333\n",
       "William            89.830508       73.644068\n",
       "Joseph             89.750000       73.000000\n",
       "Robert             89.583333       73.250000\n",
       "Christopher        89.538462       73.192308\n",
       "Richard            88.983051       71.949153\n",
       "Jessica            88.793103       72.413793\n",
       "Karen              88.448276       72.155172\n",
       "David              88.416667       71.916667\n",
       "Thomas             88.333333       71.916667\n",
       "Elizabeth          88.166667       71.833333\n",
       "Linda              88.135593       70.762966\n",
       "Susan              87.846154       72.000000\n",
       "Barbara            87.833333       72.083333\n",
       "James              87.796610       71.101695\n",
       "Patricia           87.583333       71.916667\n",
       "Jennifer           87.583333       71.583333\n",
       "Sarah              87.166667       71.083333\n",
       "Mary               83.673469       67.755102"
      ]
     },
     "execution_count": 3,
     "metadata": {},
     "output_type": "execute_result"
    }
   ],
   "source": [
    "df = ds.search_all()\n",
    "df.groupby('name')[['deserved_salary', 'current_salary']].mean().sort_values('deserved_salary', ascending=False)"
   ]
  },
  {
   "cell_type": "code",
   "execution_count": 4,
   "metadata": {},
   "outputs": [
    {
     "data": {
      "text/plain": [
       "<matplotlib.legend.Legend at 0x1fdb8539790>"
      ]
     },
     "execution_count": 4,
     "metadata": {},
     "output_type": "execute_result"
    },
    {
     "data": {
      "image/png": "[encoded data removed]",
      "text/plain": [
       "<Figure size 640x480 with 1 Axes>"
      ]
     },
     "metadata": {},
     "output_type": "display_data"
    }
   ],
   "source": [
    "import seaborn as sns\n",
    "\n",
    "# sns.histplot(data=df.groupby('gender')['deserved_salary'])\n",
    "\n",
    "m_mask = df['gender'] == Gender.Male\n",
    "f_mask = df['gender'] == Gender.Female\n",
    "\n",
    "df_men, df_fem = df[m_mask], df[f_mask]\n",
    "\n",
    "sns.histplot(data=df[m_mask]['deserved_salary'], color='yellow', bins=10, label='Males')\n",
    "sns.histplot(data=df[f_mask]['deserved_salary'], color='green', bins=10, label='Females')\n",
    "plt.legend()"
   ]
  },
  {
   "cell_type": "code",
   "execution_count": 5,
   "metadata": {},
   "outputs": [
    {
     "data": {
      "text/plain": [
       "<matplotlib.legend.Legend at 0x1fdb8633d40>"
      ]
     },
     "execution_count": 5,
     "metadata": {},
     "output_type": "execute_result"
    },
    {
     "data": {
      "image/png": "[encoded data removed]",
      "text/plain": [
       "<Figure size 640x480 with 1 Axes>"
      ]
     },
     "metadata": {},
     "output_type": "display_data"
    }
   ],
   "source": [
    "sns.histplot(data=df[m_mask]['current_salary'], color='yellow', bins=10, label='Males')\n",
    "sns.histplot(data=df[f_mask]['current_salary'], color='green', bins=10, label='Females')\n",
    "plt.legend()"
   ]
  },
  {
   "cell_type": "code",
   "execution_count": 6,
   "metadata": {},
   "outputs": [
    {
     "data": {
      "text/plain": [
       "TtestResult(statistic=np.float64(2.727311086228286), pvalue=np.float64(0.006479241375956746), df=np.float64(1189.0))"
      ]
     },
     "execution_count": 6,
     "metadata": {},
     "output_type": "execute_result"
    }
   ],
   "source": [
    "from scipy.stats import ttest_ind, norm\n",
    "\n",
    "ttest_ind(df[m_mask]['deserved_salary'], df[f_mask]['deserved_salary'])\n",
    "ttest_ind(df[m_mask]['current_salary'], df[f_mask]['current_salary'])"
   ]
  },
  {
   "cell_type": "code",
   "execution_count": 7,
   "metadata": {},
   "outputs": [
    {
     "data": {
      "text/plain": [
       "np.float64(0.18481805481685365)"
      ]
     },
     "execution_count": 7,
     "metadata": {},
     "output_type": "execute_result"
    }
   ],
   "source": [
    "spooled = np.sqrt(\n",
    "    (\n",
    "        ((len(df_men)-1)*df_men['deserved_salary'].std()**2) + \n",
    "    ((len(df_fem)-1)*df_fem['deserved_salary'].std()**2)\n",
    "    ) / (len(df_men) + len(df_fem) - 2)\n",
    "    )\n",
    "\n",
    "\n",
    "\n",
    "cohen_d = (df[m_mask]['deserved_salary'].mean() - df[f_mask]['deserved_salary'].mean()) / spooled\n",
    "cohen_d"
   ]
  },
  {
   "cell_type": "code",
   "execution_count": 8,
   "metadata": {},
   "outputs": [
    {
     "data": {
      "text/plain": [
       "1408.7416657175784"
      ]
     },
     "execution_count": 8,
     "metadata": {},
     "output_type": "execute_result"
    }
   ],
   "source": [
    "import statsmodels.stats.power as smp\n",
    "\n",
    "effect_size = cohen_d\n",
    "alpha = 0.01\n",
    "power = 0.99\n",
    "\n",
    "nobs1 = smp.tt_ind_solve_power(effect_size=effect_size, alpha=alpha, power=power, alternative='two-sided')\n",
    "nobs1\n"
   ]
  },
  {
   "cell_type": "code",
   "execution_count": 9,
   "metadata": {},
   "outputs": [
    {
     "data": {
      "text/plain": [
       "<Axes: xlabel='deserved_salary', ylabel='Count'>"
      ]
     },
     "execution_count": 9,
     "metadata": {},
     "output_type": "execute_result"
    },
    {
     "data": {
      "image/png": "[encoded data removed]",
      "text/plain": [
       "<Figure size 640x480 with 1 Axes>"
      ]
     },
     "metadata": {},
     "output_type": "display_data"
    }
   ],
   "source": [
    "df['gender_str'] = df['gender'].apply(lambda x: x.name)\n",
    "\n",
    "# Now use 'gender_str' for the 'hue' parameter\n",
    "sns.histplot(df, x='deserved_salary', hue='gender_str', palette=['purple', 'green'])"
   ]
  },
  {
   "cell_type": "code",
   "execution_count": 10,
   "metadata": {},
   "outputs": [
    {
     "name": "stderr",
     "output_type": "stream",
     "text": [
      "INFO:root:Dataframe provided, ignoring user Peter\n",
      "INFO:root:Locating deserved_salary for Christopher in all's database\n",
      "INFO:root:Dataframe provided, ignoring user Peter\n",
      "INFO:root:Locating current_salary for Christopher in all's database\n",
      "INFO:root:Dataframe provided, ignoring user Peter\n",
      "INFO:root:Locating deserved_salary for Susan in all's database\n",
      "INFO:root:Dataframe provided, ignoring user Peter\n",
      "INFO:root:Locating current_salary for Susan in all's database\n"
     ]
    }
   ],
   "source": [
    "chris_des = ds.locate(user='Peter', name='Christopher', column='deserved_salary', dataframe=ds.search_all())\n",
    "chris_curr = ds.locate(user='Peter', name='Christopher', column='current_salary', dataframe=ds.search_all())\n",
    "\n",
    "sus_des = ds.locate(user='Peter', name='Susan', column='deserved_salary', dataframe=ds.search_all())\n",
    "sus_curr = ds.locate(user='Peter', name='Susan', column='current_salary', dataframe=ds.search_all())"
   ]
  },
  {
   "cell_type": "code",
   "execution_count": 11,
   "metadata": {},
   "outputs": [
    {
     "data": {
      "text/plain": [
       "<Axes: ylabel='Count'>"
      ]
     },
     "execution_count": 11,
     "metadata": {},
     "output_type": "execute_result"
    },
    {
     "data": {
      "image/png": "[encoded data removed]",
      "text/plain": [
       "<Figure size 640x480 with 1 Axes>"
      ]
     },
     "metadata": {},
     "output_type": "display_data"
    }
   ],
   "source": [
    "cdl, ccl, sdl, scl = np.log(chris_des), np.log(chris_curr), np.log(sus_des), np.log(sus_curr)\n",
    "sns.histplot(cdl, color='blue', bins=10, label='Chris Deserved')\n",
    "# sns.histplot(ccl, color='red', bins=10, label='Chris Current')\n",
    "sns.histplot(sdl, color='green', bins=10, label='Susan Deserved')\n",
    "# sns.histplot(scl, color='yellow', bins=10, label='Susan Current')"
   ]
  },
  {
   "cell_type": "code",
   "execution_count": 12,
   "metadata": {},
   "outputs": [
    {
     "data": {
      "text/plain": [
       "Text(0.5, 0, 'Deserved Salary ($1000$ USD)')"
      ]
     },
     "execution_count": 12,
     "metadata": {},
     "output_type": "execute_result"
    },
    {
     "data": {
      "image/png": "[encoded data removed]",
      "text/plain": [
       "<Figure size 640x480 with 1 Axes>"
      ]
     },
     "metadata": {},
     "output_type": "display_data"
    }
   ],
   "source": [
    "sns.histplot(chris_des, color='purple', label='Christopher')\n",
    "sns.histplot(sus_des, color='green', label='Susan')\n",
    "plt.legend()\n",
    "plt.xlabel('Deserved Salary ($1000$ USD)')"
   ]
  },
  {
   "cell_type": "code",
   "execution_count": 13,
   "metadata": {},
   "outputs": [
    {
     "data": {
      "text/plain": [
       "Text(0.5, 0, 'Current Salary ($1000$ USD)')"
      ]
     },
     "execution_count": 13,
     "metadata": {},
     "output_type": "execute_result"
    },
    {
     "data": {
      "image/png": "[encoded data removed]",
      "text/plain": [
       "<Figure size 640x480 with 1 Axes>"
      ]
     },
     "metadata": {},
     "output_type": "display_data"
    }
   ],
   "source": [
    "sns.histplot(chris_curr, color='purple', label='Christopher')\n",
    "sns.histplot(sus_curr, color='green', label='Susan')\n",
    "plt.legend()\n",
    "plt.xlabel('Current Salary ($1000$ USD)')"
   ]
  },
  {
   "cell_type": "code",
   "execution_count": 14,
   "metadata": {},
   "outputs": [
    {
     "data": {
      "text/plain": [
       "(np.float64(0.3256004823219958), np.float64(0.4659484384883158))"
      ]
     },
     "execution_count": 14,
     "metadata": {},
     "output_type": "execute_result"
    }
   ],
   "source": [
    "des_res = ttest_ind(chris_des, sus_des, alternative='two-sided')\n",
    "curr_res = ttest_ind(chris_curr, sus_curr, alternative='two-sided')\n",
    "des_res.pvalue, curr_res.pvalue"
   ]
  },
  {
   "cell_type": "code",
   "execution_count": 15,
   "metadata": {},
   "outputs": [
    {
     "data": {
      "image/png": "[encoded data removed]",
      "text/plain": [
       "<Figure size 1000x600 with 1 Axes>"
      ]
     },
     "metadata": {},
     "output_type": "display_data"
    }
   ],
   "source": [
    "import scipy.stats as stats\n",
    "# Calculate confidence intervals\n",
    "conf_int1 = norm.interval(0.95, loc=np.mean(chris_des), scale=stats.sem(chris_des))\n",
    "conf_int2 = norm.interval(0.95, loc=np.mean(sus_des), scale=stats.sem(sus_des))\n",
    "conf_int3 = norm.interval(0.95, loc=np.mean(chris_curr), scale=stats.sem(chris_curr))\n",
    "conf_int4 = norm.interval(0.95, loc=np.mean(sus_curr), scale=stats.sem(sus_curr))\n",
    "\n",
    "# Plotting confidence intervals\n",
    "plt.figure(figsize=(10, 6))\n",
    "\n",
    "# Plot first set of confidence intervals\n",
    "plt.errorbar(x=1, y=np.mean(chris_des), yerr=np.mean(chris_des)-conf_int1[0], fmt='o', label='Christopher Deserved',\n",
    "             color='purple')\n",
    "plt.errorbar(x=2, y=np.mean(sus_des), yerr=np.mean(sus_des)-conf_int2[0], fmt='o', label='Susan Deserved',\n",
    "             color='green')\n",
    "\n",
    "# Plot second set of confidence intervals\n",
    "plt.errorbar(x=3, y=np.mean(chris_curr), yerr=np.mean(chris_curr)-conf_int3[0], fmt='o', label='Christopher Current',\n",
    "             color='red')\n",
    "plt.errorbar(x=4, y=np.mean(sus_curr), yerr=np.mean(sus_curr)-conf_int4[0], fmt='o', label='Susan Current',\n",
    "             color='blue')\n",
    "\n",
    "# Customizing the plot\n",
    "plt.xticks([1, 2, 3, 4], ['Christopher Deserved', 'Susan Deserved', 'Christopher Current', 'Susan Current'])\n",
    "plt.xlabel('Groups')\n",
    "plt.ylabel('Mean Value')\n",
    "plt.title('Confidence Intervals of Different Groups')\n",
    "plt.legend()\n",
    "plt.grid()\n",
    "plt.ylim(80,110)\n",
    "\n",
    "plt.show()"
   ]
  },
  {
   "cell_type": "code",
   "execution_count": 16,
   "metadata": {},
   "outputs": [
    {
     "data": {
      "text/plain": [
       "<Axes: ylabel='deserved_salary'>"
      ]
     },
     "execution_count": 16,
     "metadata": {},
     "output_type": "execute_result"
    },
    {
     "data": {
      "image/png": "[encoded data removed]",
      "text/plain": [
       "<Figure size 640x480 with 1 Axes>"
      ]
     },
     "metadata": {},
     "output_type": "display_data"
    }
   ],
   "source": [
    "sns.boxplot(data=df,y='deserved_salary', hue='gender_str', palette=['purple', 'green'])"
   ]
  },
  {
   "cell_type": "code",
   "execution_count": 17,
   "metadata": {},
   "outputs": [
    {
     "data": {
      "text/plain": [
       "((np.float64(86.8917156405815), np.float64(92.18520743634157)),\n",
       " (np.float64(85.77431464211334), np.float64(89.91799305019434)))"
      ]
     },
     "execution_count": 17,
     "metadata": {},
     "output_type": "execute_result"
    }
   ],
   "source": [
    "conf_int1, conf_int2"
   ]
  },
  {
   "cell_type": "code",
   "execution_count": 18,
   "metadata": {},
   "outputs": [
    {
     "data": {
      "text/plain": [
       "((np.float64(70.74823095744138), np.float64(75.63638442717401)),\n",
       " (np.float64(69.94123029719705), np.float64(74.05876970280295)))"
      ]
     },
     "execution_count": 18,
     "metadata": {},
     "output_type": "execute_result"
    }
   ],
   "source": [
    "conf_int3, conf_int4"
   ]
  },
  {
   "cell_type": "code",
   "execution_count": 19,
   "metadata": {},
   "outputs": [
    {
     "data": {
      "text/html": [
       "<div>\n",
       "<style scoped>\n",
       "    .dataframe tbody tr th:only-of-type {\n",
       "        vertical-align: middle;\n",
       "    }\n",
       "\n",
       "    .dataframe tbody tr th {\n",
       "        vertical-align: top;\n",
       "    }\n",
       "\n",
       "    .dataframe thead th {\n",
       "        text-align: right;\n",
       "    }\n",
       "</style>\n",
       "<table border=\"1\" class=\"dataframe\">\n",
       "  <thead>\n",
       "    <tr style=\"text-align: right;\">\n",
       "      <th></th>\n",
       "      <th>name</th>\n",
       "      <th>gender</th>\n",
       "      <th>current_salary</th>\n",
       "      <th>deserved_salary</th>\n",
       "      <th>round_</th>\n",
       "      <th>gender_str</th>\n",
       "      <th>deserved_standardized</th>\n",
       "      <th>current_standardized</th>\n",
       "    </tr>\n",
       "  </thead>\n",
       "  <tbody>\n",
       "    <tr>\n",
       "      <th>0</th>\n",
       "      <td>James</td>\n",
       "      <td>Gender.Male</td>\n",
       "      <td>85.0</td>\n",
       "      <td>105.0</td>\n",
       "      <td>1</td>\n",
       "      <td>Male</td>\n",
       "      <td>1.825268</td>\n",
       "      <td>1.574676</td>\n",
       "    </tr>\n",
       "    <tr>\n",
       "      <th>0</th>\n",
       "      <td>James</td>\n",
       "      <td>Gender.Male</td>\n",
       "      <td>85.0</td>\n",
       "      <td>110.0</td>\n",
       "      <td>1</td>\n",
       "      <td>Male</td>\n",
       "      <td>2.376178</td>\n",
       "      <td>1.574676</td>\n",
       "    </tr>\n",
       "    <tr>\n",
       "      <th>0</th>\n",
       "      <td>James</td>\n",
       "      <td>Gender.Male</td>\n",
       "      <td>85.0</td>\n",
       "      <td>105.0</td>\n",
       "      <td>1</td>\n",
       "      <td>Male</td>\n",
       "      <td>1.825268</td>\n",
       "      <td>1.574676</td>\n",
       "    </tr>\n",
       "    <tr>\n",
       "      <th>0</th>\n",
       "      <td>James</td>\n",
       "      <td>Gender.Male</td>\n",
       "      <td>85.0</td>\n",
       "      <td>100.0</td>\n",
       "      <td>1</td>\n",
       "      <td>Male</td>\n",
       "      <td>1.274357</td>\n",
       "      <td>1.574676</td>\n",
       "    </tr>\n",
       "    <tr>\n",
       "      <th>0</th>\n",
       "      <td>James</td>\n",
       "      <td>Gender.Male</td>\n",
       "      <td>85.0</td>\n",
       "      <td>95.0</td>\n",
       "      <td>1</td>\n",
       "      <td>Male</td>\n",
       "      <td>0.723446</td>\n",
       "      <td>1.574676</td>\n",
       "    </tr>\n",
       "  </tbody>\n",
       "</table>\n",
       "</div>"
      ],
      "text/plain": [
       "    name       gender  current_salary  deserved_salary  round_ gender_str  \\\n",
       "0  James  Gender.Male            85.0            105.0       1       Male   \n",
       "0  James  Gender.Male            85.0            110.0       1       Male   \n",
       "0  James  Gender.Male            85.0            105.0       1       Male   \n",
       "0  James  Gender.Male            85.0            100.0       1       Male   \n",
       "0  James  Gender.Male            85.0             95.0       1       Male   \n",
       "\n",
       "   deserved_standardized  current_standardized  \n",
       "0               1.825268              1.574676  \n",
       "0               2.376178              1.574676  \n",
       "0               1.825268              1.574676  \n",
       "0               1.274357              1.574676  \n",
       "0               0.723446              1.574676  "
      ]
     },
     "execution_count": 19,
     "metadata": {},
     "output_type": "execute_result"
    }
   ],
   "source": [
    "new_df = df.copy()\n",
    "deserved_scaler = StandardScaler()\n",
    "new_df['deserved_standardized'] = deserved_scaler.fit_transform(df['deserved_salary'].to_numpy().reshape(-1,1))\n",
    "new_df['current_standardized'] = deserved_scaler.fit_transform(df['current_salary'].to_numpy().reshape(-1,1))\n",
    "new_df.head()"
   ]
  },
  {
   "cell_type": "code",
   "execution_count": 20,
   "metadata": {},
   "outputs": [
    {
     "data": {
      "text/plain": [
       "<Axes: xlabel='deserved_standardized', ylabel='Count'>"
      ]
     },
     "execution_count": 20,
     "metadata": {},
     "output_type": "execute_result"
    },
    {
     "data": {
      "image/png": "[encoded data removed]",
      "text/plain": [
       "<Figure size 640x480 with 1 Axes>"
      ]
     },
     "metadata": {},
     "output_type": "display_data"
    }
   ],
   "source": [
    "sns.histplot(new_df, x='deserved_standardized', hue='gender_str', palette=['purple','green'])"
   ]
  },
  {
   "cell_type": "code",
   "execution_count": 21,
   "metadata": {},
   "outputs": [
    {
     "data": {
      "text/html": [
       "<div>\n",
       "<style scoped>\n",
       "    .dataframe tbody tr th:only-of-type {\n",
       "        vertical-align: middle;\n",
       "    }\n",
       "\n",
       "    .dataframe tbody tr th {\n",
       "        vertical-align: top;\n",
       "    }\n",
       "\n",
       "    .dataframe thead th {\n",
       "        text-align: right;\n",
       "    }\n",
       "</style>\n",
       "<table border=\"1\" class=\"dataframe\">\n",
       "  <thead>\n",
       "    <tr style=\"text-align: right;\">\n",
       "      <th></th>\n",
       "      <th>name</th>\n",
       "      <th>gender</th>\n",
       "      <th>current_salary</th>\n",
       "      <th>deserved_salary</th>\n",
       "      <th>round_</th>\n",
       "    </tr>\n",
       "  </thead>\n",
       "  <tbody>\n",
       "    <tr>\n",
       "      <th>0</th>\n",
       "      <td>James</td>\n",
       "      <td>Gender.Male</td>\n",
       "      <td>70.0</td>\n",
       "      <td>90.0</td>\n",
       "      <td>2</td>\n",
       "    </tr>\n",
       "    <tr>\n",
       "      <th>0</th>\n",
       "      <td>James</td>\n",
       "      <td>Gender.Male</td>\n",
       "      <td>70.0</td>\n",
       "      <td>85.0</td>\n",
       "      <td>2</td>\n",
       "    </tr>\n",
       "    <tr>\n",
       "      <th>0</th>\n",
       "      <td>James</td>\n",
       "      <td>Gender.Male</td>\n",
       "      <td>70.0</td>\n",
       "      <td>85.0</td>\n",
       "      <td>2</td>\n",
       "    </tr>\n",
       "    <tr>\n",
       "      <th>0</th>\n",
       "      <td>James</td>\n",
       "      <td>Gender.Male</td>\n",
       "      <td>70.0</td>\n",
       "      <td>85.0</td>\n",
       "      <td>2</td>\n",
       "    </tr>\n",
       "    <tr>\n",
       "      <th>0</th>\n",
       "      <td>James</td>\n",
       "      <td>Gender.Male</td>\n",
       "      <td>70.0</td>\n",
       "      <td>85.0</td>\n",
       "      <td>2</td>\n",
       "    </tr>\n",
       "    <tr>\n",
       "      <th>...</th>\n",
       "      <td>...</td>\n",
       "      <td>...</td>\n",
       "      <td>...</td>\n",
       "      <td>...</td>\n",
       "      <td>...</td>\n",
       "    </tr>\n",
       "    <tr>\n",
       "      <th>0</th>\n",
       "      <td>Sarah</td>\n",
       "      <td>Gender.Female</td>\n",
       "      <td>70.0</td>\n",
       "      <td>85.0</td>\n",
       "      <td>2</td>\n",
       "    </tr>\n",
       "    <tr>\n",
       "      <th>0</th>\n",
       "      <td>Sarah</td>\n",
       "      <td>Gender.Female</td>\n",
       "      <td>70.0</td>\n",
       "      <td>85.0</td>\n",
       "      <td>2</td>\n",
       "    </tr>\n",
       "    <tr>\n",
       "      <th>0</th>\n",
       "      <td>Sarah</td>\n",
       "      <td>Gender.Female</td>\n",
       "      <td>70.0</td>\n",
       "      <td>85.0</td>\n",
       "      <td>2</td>\n",
       "    </tr>\n",
       "    <tr>\n",
       "      <th>0</th>\n",
       "      <td>Sarah</td>\n",
       "      <td>Gender.Female</td>\n",
       "      <td>70.0</td>\n",
       "      <td>85.0</td>\n",
       "      <td>2</td>\n",
       "    </tr>\n",
       "    <tr>\n",
       "      <th>0</th>\n",
       "      <td>Sarah</td>\n",
       "      <td>Gender.Female</td>\n",
       "      <td>70.0</td>\n",
       "      <td>85.0</td>\n",
       "      <td>2</td>\n",
       "    </tr>\n",
       "  </tbody>\n",
       "</table>\n",
       "<p>991 rows × 5 columns</p>\n",
       "</div>"
      ],
      "text/plain": [
       "     name         gender  current_salary  deserved_salary  round_\n",
       "0   James    Gender.Male            70.0             90.0       2\n",
       "0   James    Gender.Male            70.0             85.0       2\n",
       "0   James    Gender.Male            70.0             85.0       2\n",
       "0   James    Gender.Male            70.0             85.0       2\n",
       "0   James    Gender.Male            70.0             85.0       2\n",
       "..    ...            ...             ...              ...     ...\n",
       "0   Sarah  Gender.Female            70.0             85.0       2\n",
       "0   Sarah  Gender.Female            70.0             85.0       2\n",
       "0   Sarah  Gender.Female            70.0             85.0       2\n",
       "0   Sarah  Gender.Female            70.0             85.0       2\n",
       "0   Sarah  Gender.Female            70.0             85.0       2\n",
       "\n",
       "[991 rows x 5 columns]"
      ]
     },
     "execution_count": 21,
     "metadata": {},
     "output_type": "execute_result"
    }
   ],
   "source": [
    "df = ds.get_db('GPT')\n",
    "df"
   ]
  },
  {
   "cell_type": "code",
   "execution_count": 27,
   "metadata": {},
   "outputs": [
    {
     "data": {
      "text/html": [
       "<div>\n",
       "<style scoped>\n",
       "    .dataframe tbody tr th:only-of-type {\n",
       "        vertical-align: middle;\n",
       "    }\n",
       "\n",
       "    .dataframe tbody tr th {\n",
       "        vertical-align: top;\n",
       "    }\n",
       "\n",
       "    .dataframe thead th {\n",
       "        text-align: right;\n",
       "    }\n",
       "</style>\n",
       "<table border=\"1\" class=\"dataframe\">\n",
       "  <thead>\n",
       "    <tr style=\"text-align: right;\">\n",
       "      <th></th>\n",
       "      <th>current_salary</th>\n",
       "      <th>deserved_salary</th>\n",
       "      <th>round_</th>\n",
       "    </tr>\n",
       "  </thead>\n",
       "  <tbody>\n",
       "    <tr>\n",
       "      <th>count</th>\n",
       "      <td>497.000000</td>\n",
       "      <td>497.000000</td>\n",
       "      <td>497.0</td>\n",
       "    </tr>\n",
       "    <tr>\n",
       "      <th>mean</th>\n",
       "      <td>69.557344</td>\n",
       "      <td>85.734406</td>\n",
       "      <td>2.0</td>\n",
       "    </tr>\n",
       "    <tr>\n",
       "      <th>std</th>\n",
       "      <td>4.612530</td>\n",
       "      <td>5.380097</td>\n",
       "      <td>0.0</td>\n",
       "    </tr>\n",
       "    <tr>\n",
       "      <th>min</th>\n",
       "      <td>60.000000</td>\n",
       "      <td>75.000000</td>\n",
       "      <td>2.0</td>\n",
       "    </tr>\n",
       "    <tr>\n",
       "      <th>25%</th>\n",
       "      <td>70.000000</td>\n",
       "      <td>85.000000</td>\n",
       "      <td>2.0</td>\n",
       "    </tr>\n",
       "    <tr>\n",
       "      <th>50%</th>\n",
       "      <td>70.000000</td>\n",
       "      <td>85.000000</td>\n",
       "      <td>2.0</td>\n",
       "    </tr>\n",
       "    <tr>\n",
       "      <th>75%</th>\n",
       "      <td>70.000000</td>\n",
       "      <td>90.000000</td>\n",
       "      <td>2.0</td>\n",
       "    </tr>\n",
       "    <tr>\n",
       "      <th>max</th>\n",
       "      <td>90.000000</td>\n",
       "      <td>110.000000</td>\n",
       "      <td>2.0</td>\n",
       "    </tr>\n",
       "  </tbody>\n",
       "</table>\n",
       "</div>"
      ],
      "text/plain": [
       "       current_salary  deserved_salary  round_\n",
       "count      497.000000       497.000000   497.0\n",
       "mean        69.557344        85.734406     2.0\n",
       "std          4.612530         5.380097     0.0\n",
       "min         60.000000        75.000000     2.0\n",
       "25%         70.000000        85.000000     2.0\n",
       "50%         70.000000        85.000000     2.0\n",
       "75%         70.000000        90.000000     2.0\n",
       "max         90.000000       110.000000     2.0"
      ]
     },
     "metadata": {},
     "output_type": "display_data"
    },
    {
     "data": {
      "text/html": [
       "<div>\n",
       "<style scoped>\n",
       "    .dataframe tbody tr th:only-of-type {\n",
       "        vertical-align: middle;\n",
       "    }\n",
       "\n",
       "    .dataframe tbody tr th {\n",
       "        vertical-align: top;\n",
       "    }\n",
       "\n",
       "    .dataframe thead th {\n",
       "        text-align: right;\n",
       "    }\n",
       "</style>\n",
       "<table border=\"1\" class=\"dataframe\">\n",
       "  <thead>\n",
       "    <tr style=\"text-align: right;\">\n",
       "      <th></th>\n",
       "      <th>current_salary</th>\n",
       "      <th>deserved_salary</th>\n",
       "      <th>round_</th>\n",
       "    </tr>\n",
       "  </thead>\n",
       "  <tbody>\n",
       "    <tr>\n",
       "      <th>count</th>\n",
       "      <td>494.000000</td>\n",
       "      <td>494.000000</td>\n",
       "      <td>494.0</td>\n",
       "    </tr>\n",
       "    <tr>\n",
       "      <th>mean</th>\n",
       "      <td>68.755091</td>\n",
       "      <td>84.716599</td>\n",
       "      <td>2.0</td>\n",
       "    </tr>\n",
       "    <tr>\n",
       "      <th>std</th>\n",
       "      <td>5.751320</td>\n",
       "      <td>5.517871</td>\n",
       "      <td>0.0</td>\n",
       "    </tr>\n",
       "    <tr>\n",
       "      <th>min</th>\n",
       "      <td>0.015000</td>\n",
       "      <td>70.000000</td>\n",
       "      <td>2.0</td>\n",
       "    </tr>\n",
       "    <tr>\n",
       "      <th>25%</th>\n",
       "      <td>70.000000</td>\n",
       "      <td>85.000000</td>\n",
       "      <td>2.0</td>\n",
       "    </tr>\n",
       "    <tr>\n",
       "      <th>50%</th>\n",
       "      <td>70.000000</td>\n",
       "      <td>85.000000</td>\n",
       "      <td>2.0</td>\n",
       "    </tr>\n",
       "    <tr>\n",
       "      <th>75%</th>\n",
       "      <td>70.000000</td>\n",
       "      <td>85.000000</td>\n",
       "      <td>2.0</td>\n",
       "    </tr>\n",
       "    <tr>\n",
       "      <th>max</th>\n",
       "      <td>80.000000</td>\n",
       "      <td>100.000000</td>\n",
       "      <td>2.0</td>\n",
       "    </tr>\n",
       "  </tbody>\n",
       "</table>\n",
       "</div>"
      ],
      "text/plain": [
       "       current_salary  deserved_salary  round_\n",
       "count      494.000000       494.000000   494.0\n",
       "mean        68.755091        84.716599     2.0\n",
       "std          5.751320         5.517871     0.0\n",
       "min          0.015000        70.000000     2.0\n",
       "25%         70.000000        85.000000     2.0\n",
       "50%         70.000000        85.000000     2.0\n",
       "75%         70.000000        85.000000     2.0\n",
       "max         80.000000       100.000000     2.0"
      ]
     },
     "metadata": {},
     "output_type": "display_data"
    }
   ],
   "source": [
    "men_mask = df['gender'] == Gender.Male\n",
    "df_male = df[men_mask]\n",
    "df_female = df[~men_mask]\n",
    "\n",
    "display(df_male.describe())\n",
    "display(df_female.describe())"
   ]
  },
  {
   "cell_type": "code",
   "execution_count": 31,
   "metadata": {},
   "outputs": [
    {
     "data": {
      "text/plain": [
       "current_salary\n",
       "70.000    321\n",
       "60.000     81\n",
       "75.000     36\n",
       "65.000     31\n",
       "80.000     24\n",
       "0.015       1\n",
       "Name: count, dtype: int64"
      ]
     },
     "execution_count": 31,
     "metadata": {},
     "output_type": "execute_result"
    }
   ],
   "source": [
    "df_female['current_salary'].value_counts()"
   ]
  }
 ],
 "metadata": {
  "kernelspec": {
   "display_name": "mldm",
   "language": "python",
   "name": "python3"
  },
  "language_info": {
   "codemirror_mode": {
    "name": "ipython",
    "version": 3
   },
   "file_extension": ".py",
   "mimetype": "text/x-python",
   "name": "python",
   "nbconvert_exporter": "python",
   "pygments_lexer": "ipython3",
   "version": "3.12.3"
  }
 },
 "nbformat": 4,
 "nbformat_minor": 2
}
