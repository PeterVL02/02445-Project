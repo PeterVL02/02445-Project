{
 "cells": [
  {
   "cell_type": "code",
   "execution_count": 5,
   "metadata": {},
   "outputs": [
    {
     "data": {
      "text/plain": [
       "(current_salary      87.690476\n",
       " deserved_salary    105.952381\n",
       " dtype: float64,\n",
       " current_salary      85.315789\n",
       " deserved_salary    102.526316\n",
       " dtype: float64,\n",
       " current_salary     3.703356\n",
       " deserved_salary    6.238539\n",
       " dtype: float64)"
      ]
     },
     "execution_count": 5,
     "metadata": {},
     "output_type": "execute_result"
    }
   ],
   "source": [
    "import data_structure as ds\n",
    "from data_structure import Gender\n",
    "import numpy as np\n",
    "import statsmodels.stats.power as smp\n",
    "\n",
    "df = ds.get_model('Pilot')\n",
    "\n",
    "# sample size calculation\n",
    "def sample_size_calculation(sd, mean1, mean2):\n",
    "    zbeta = 0.84\n",
    "    zalpha = 1.96 \n",
    "    d = mean1 - mean2\n",
    "    return (2 * (sd ** 2) * (zalpha + zbeta) ** 2) / (d ** 2)\n",
    "\n",
    "df['gender_str'] = df['gender'].apply(lambda x:  x.name)\n",
    "\n",
    "# sum and standard deviation for each gender\n",
    "agg_df = df.groupby('gender_str').agg({'deserved_salary': ['mean'], 'current_salary': ['mean']}).reset_index()\n",
    "df[['deserved_salary', 'current_salary']].std()\n",
    "\n",
    "\n",
    "df = ds.get_model('Pilot')\n",
    "df['gender']= df['gender'].astype(str)\n",
    "male_mask = df['gender'] == 'Gender.Male'\n",
    "male = df[male_mask]\n",
    "female = df[~male_mask]\n",
    "total_sd = np.std(df[['current_salary', 'deserved_salary']], axis=0)\n",
    "male_mean = np.mean(male[['current_salary', 'deserved_salary']], axis=0)\n",
    "female_mean = np.mean(female[['current_salary', 'deserved_salary']], axis=0)\n",
    "\n",
    "male_mean, female_mean, total_sd"
   ]
  },
  {
   "cell_type": "code",
   "execution_count": 18,
   "metadata": {},
   "outputs": [
    {
     "data": {
      "text/plain": [
       "(78.6166962780712, 102.06974014221947)"
      ]
     },
     "execution_count": 18,
     "metadata": {},
     "output_type": "execute_result"
    }
   ],
   "source": [
    "current = (87.690476-85.315789)/3.7\n",
    "deserved = (105.952381-102.526316)/6.238539\n",
    "sample_size_current = smp.tt_ind_solve_power(effect_size=0.64, alpha=0.05, power=0.8, alternative='two-sided')\n",
    "sample_size_deserved = smp.tt_ind_solve_power(effect_size=0.56, alpha=0.05, power=0.8, alternative='two-sided')\n",
    "sample_size_current*2, sample_size_deserved*2"
   ]
  },
  {
   "cell_type": "code",
   "execution_count": null,
   "metadata": {},
   "outputs": [],
   "source": []
  }
 ],
 "metadata": {
  "kernelspec": {
   "display_name": "intelsys",
   "language": "python",
   "name": "python3"
  },
  "language_info": {
   "codemirror_mode": {
    "name": "ipython",
    "version": 3
   },
   "file_extension": ".py",
   "mimetype": "text/x-python",
   "name": "python",
   "nbconvert_exporter": "python",
   "pygments_lexer": "ipython3",
   "version": "3.10.12"
  }
 },
 "nbformat": 4,
 "nbformat_minor": 2
}
