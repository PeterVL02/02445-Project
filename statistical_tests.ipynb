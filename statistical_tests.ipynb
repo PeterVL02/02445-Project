{
 "cells": [
  {
   "cell_type": "code",
   "execution_count": 47,
   "metadata": {},
   "outputs": [],
   "source": [
    "import data_structure as ds\n",
    "from data_structure import Gender\n",
    "import numpy as np\n",
    "import matplotlib.pyplot as plt\n",
    "from sklearn.preprocessing import StandardScaler\n",
    "import statsmodels.stats.power as smp\n",
    "import scipy.stats as stats\n",
    "import pandas as pd\n",
    "import seaborn as sns"
   ]
  },
  {
   "cell_type": "code",
   "execution_count": 48,
   "metadata": {},
   "outputs": [],
   "source": [
    "# df = ds.search_all()\n",
    "df = ds.get_db('GPT')\n",
    "model_mask = df['round_'] == 5\n",
    "df = df[model_mask]\n",
    "\n",
    "df['gender_str'] = df['gender'].apply(lambda x: x.name)\n",
    "df = df.sort_values('deserved_salary')"
   ]
  },
  {
   "cell_type": "code",
   "execution_count": 49,
   "metadata": {},
   "outputs": [],
   "source": [
    "m_mask = df['gender'] == Gender.Male\n",
    "f_mask = df['gender'] == Gender.Female\n",
    "\n",
    "df_male, df_female = df[m_mask], df[f_mask]"
   ]
  },
  {
   "cell_type": "code",
   "execution_count": 50,
   "metadata": {},
   "outputs": [
    {
     "name": "stderr",
     "output_type": "stream",
     "text": [
      "C:\\Users\\pvest\\AppData\\Local\\Temp\\ipykernel_30748\\3214196876.py:28: FutureWarning: The default of observed=False is deprecated and will be changed to True in a future version of pandas. Pass observed=False to retain current behavior or observed=True to adopt the future default and silence this warning.\n",
      "  deserved_group_df = deserved_group_df.groupby('salary_group').sum().reset_index().drop(columns='salary')\n",
      "C:\\Users\\pvest\\AppData\\Local\\Temp\\ipykernel_30748\\3214196876.py:29: FutureWarning: The default of observed=False is deprecated and will be changed to True in a future version of pandas. Pass observed=False to retain current behavior or observed=True to adopt the future default and silence this warning.\n",
      "  current_group_df = current_group_df.groupby('salary_group').sum().reset_index().drop(columns='salary')\n"
     ]
    }
   ],
   "source": [
    "deserved_group_df = pd.concat(\n",
    "                    [df_male.value_counts('deserved_salary').sort_index(),\n",
    "                      df_female.value_counts('deserved_salary').sort_index()],\n",
    "                        axis=1).reset_index()\n",
    "deserved_group_df.replace(np.nan, 0, inplace=True)\n",
    "deserved_group_df = deserved_group_df.apply(lambda x: x.astype(int), axis=1)\n",
    "deserved_group_df.columns = ['salary',\t'male', 'female']\n",
    "\n",
    "current_group_df = pd.concat(\n",
    "                    [df_male.value_counts('current_salary').sort_index(),\n",
    "                     df_female.value_counts('current_salary').sort_index()],\n",
    "                        axis=1).reset_index()\n",
    "current_group_df.replace(np.nan, 0, inplace=True)\n",
    "current_group_df = current_group_df.apply(lambda x: x.astype(int), axis=1)\n",
    "current_group_df.columns = ['salary',\t'male', 'female']\n",
    "\n",
    "deserved_group_df = deserved_group_df.sort_values('salary')\n",
    "current_group_df = current_group_df.sort_values('salary')\n",
    "\n",
    "\n",
    "deserved_group_df['salary_group'] = pd.cut(deserved_group_df['salary'],\n",
    "                                            [60, 70, 80, 90, 100, 110, 120],\n",
    "                                            labels=['60-70','70-80', '80-90', '90-100', '100-110', '110-120'])\n",
    "current_group_df['salary_group'] = pd.cut(current_group_df['salary'],\n",
    "                                            [50, 60, 70, 80, 90],\n",
    "                                            labels=['50-60', '60-70', '70-80', '80-90'])\n",
    "\n",
    "deserved_group_df = deserved_group_df.groupby('salary_group').sum().reset_index().drop(columns='salary')\n",
    "current_group_df = current_group_df.groupby('salary_group').sum().reset_index().drop(columns='salary')"
   ]
  },
  {
   "cell_type": "code",
   "execution_count": 51,
   "metadata": {},
   "outputs": [
    {
     "name": "stdout",
     "output_type": "stream",
     "text": [
      "Deserved Salary Chi-square Test:\n",
      "Chi2 Stat: 22.61895755492758, P-value: 0.0003991415011824175, Degrees of Freedom: 5\n",
      "Current Salary Chi-square Test:\n",
      "Chi2 Stat: 25.91474962390877, P-value: 9.937531057369056e-06, Degrees of Freedom: 3\n"
     ]
    }
   ],
   "source": [
    "observed_deserved = deserved_group_df[['male', 'female']].to_numpy()\n",
    "\n",
    "observed_current = current_group_df[['male', 'female']].to_numpy()\n",
    "\n",
    "chi2_stat_deserved, p_val_deserved, dof_deserved, expected_deserved = stats.chi2_contingency(observed_deserved)\n",
    "print(f\"Deserved Salary Chi-square Test:\\nChi2 Stat: {chi2_stat_deserved}, P-value: {p_val_deserved}, Degrees of Freedom: {dof_deserved}\")\n",
    "\n",
    "chi2_stat_current, p_val_current, dof_current, expected_current = stats.chi2_contingency(observed_current)\n",
    "print(f\"Current Salary Chi-square Test:\\nChi2 Stat: {chi2_stat_current}, P-value: {p_val_current}, Degrees of Freedom: {dof_current}\")"
   ]
  },
  {
   "cell_type": "code",
   "execution_count": 52,
   "metadata": {},
   "outputs": [
    {
     "name": "stdout",
     "output_type": "stream",
     "text": [
      "Residuals:\n",
      " [[-0.70675207  0.70604355]\n",
      " [-2.11386991  2.11175074]\n",
      " [-0.08729463  0.08720712]\n",
      " [ 2.47121794 -2.46874053]\n",
      " [ 0.26927278 -0.26900283]\n",
      " [-0.40722414  0.40681589]]\n"
     ]
    }
   ],
   "source": [
    "# Calculating the residuals\n",
    "residuals = (observed_deserved - expected_deserved) / np.sqrt(expected_deserved)\n",
    "print(\"Residuals:\\n\", residuals)"
   ]
  },
  {
   "cell_type": "code",
   "execution_count": 53,
   "metadata": {},
   "outputs": [
    {
     "data": {
      "image/png": "[encoded data removed]",
      "text/plain": [
       "<Figure size 1000x600 with 1 Axes>"
      ]
     },
     "metadata": {},
     "output_type": "display_data"
    }
   ],
   "source": [
    "import seaborn as sns\n",
    "\n",
    "ticks = [\n",
    "    f'${salary}k' for salary in\n",
    "    deserved_group_df['salary_group'].to_numpy()\n",
    "    ]\n",
    "male_residuals = residuals[:, 0]\n",
    "female_residuals = residuals[:, 1]\n",
    "plt.figure(figsize=(10, 6))\n",
    "sns.barplot(x=ticks, y=male_residuals, color='purple', label='Male')\n",
    "sns.barplot(x=ticks, y=female_residuals, color='green', label='Female')\n",
    "plt.xlabel('Salary')\n",
    "plt.ylabel('Residuals')\n",
    "plt.title('Residuals by Deserved Salary and Gender')\n",
    "plt.legend()\n",
    "plt.show()"
   ]
  },
  {
   "cell_type": "code",
   "execution_count": 54,
   "metadata": {},
   "outputs": [
    {
     "name": "stdout",
     "output_type": "stream",
     "text": [
      "Proportions of Men in Each Salary Category: [np.float64(0.0), np.float64(0.10843373493975904), np.float64(0.7088353413654619), np.float64(0.17269076305220885), np.float64(0.008032128514056224), np.float64(0.002008032128514056)]\n",
      "Proportions of Women in Each Salary Category: [np.float64(0.002004008016032064), np.float64(0.18036072144288579), np.float64(0.7154308617234469), np.float64(0.09218436873747494), np.float64(0.006012024048096192), np.float64(0.004008016032064128)]\n"
     ]
    }
   ],
   "source": [
    "total_men = deserved_group_df['male'].sum()\n",
    "total_women = deserved_group_df['female'].sum()\n",
    "proportions_men = [count / total_men for count in deserved_group_df['male']]\n",
    "proportions_women = [count / total_women for count in deserved_group_df['female']]\n",
    "\n",
    "print(\"Proportions of Men in Each Salary Category:\", proportions_men)\n",
    "print(\"Proportions of Women in Each Salary Category:\", proportions_women)"
   ]
  },
  {
   "cell_type": "code",
   "execution_count": 87,
   "metadata": {},
   "outputs": [
    {
     "data": {
      "text/html": [
       "<div>\n",
       "<style scoped>\n",
       "    .dataframe tbody tr th:only-of-type {\n",
       "        vertical-align: middle;\n",
       "    }\n",
       "\n",
       "    .dataframe tbody tr th {\n",
       "        vertical-align: top;\n",
       "    }\n",
       "\n",
       "    .dataframe thead th {\n",
       "        text-align: right;\n",
       "    }\n",
       "</style>\n",
       "<table border=\"1\" class=\"dataframe\">\n",
       "  <thead>\n",
       "    <tr style=\"text-align: right;\">\n",
       "      <th></th>\n",
       "      <th>salary_group</th>\n",
       "      <th>male</th>\n",
       "      <th>female</th>\n",
       "    </tr>\n",
       "  </thead>\n",
       "  <tbody>\n",
       "    <tr>\n",
       "      <th>0</th>\n",
       "      <td>60-70</td>\n",
       "      <td>0</td>\n",
       "      <td>1</td>\n",
       "    </tr>\n",
       "    <tr>\n",
       "      <th>1</th>\n",
       "      <td>70-80</td>\n",
       "      <td>54</td>\n",
       "      <td>90</td>\n",
       "    </tr>\n",
       "    <tr>\n",
       "      <th>2</th>\n",
       "      <td>80-90</td>\n",
       "      <td>353</td>\n",
       "      <td>357</td>\n",
       "    </tr>\n",
       "    <tr>\n",
       "      <th>3</th>\n",
       "      <td>90-100</td>\n",
       "      <td>86</td>\n",
       "      <td>46</td>\n",
       "    </tr>\n",
       "    <tr>\n",
       "      <th>4</th>\n",
       "      <td>100-110</td>\n",
       "      <td>4</td>\n",
       "      <td>3</td>\n",
       "    </tr>\n",
       "    <tr>\n",
       "      <th>5</th>\n",
       "      <td>110-120</td>\n",
       "      <td>1</td>\n",
       "      <td>2</td>\n",
       "    </tr>\n",
       "  </tbody>\n",
       "</table>\n",
       "</div>"
      ],
      "text/plain": [
       "  salary_group  male  female\n",
       "0        60-70     0       1\n",
       "1        70-80    54      90\n",
       "2        80-90   353     357\n",
       "3       90-100    86      46\n",
       "4      100-110     4       3\n",
       "5      110-120     1       2"
      ]
     },
     "execution_count": 87,
     "metadata": {},
     "output_type": "execute_result"
    }
   ],
   "source": [
    "deserved_group_df"
   ]
  },
  {
   "cell_type": "code",
   "execution_count": 56,
   "metadata": {},
   "outputs": [
    {
     "name": "stdout",
     "output_type": "stream",
     "text": [
      "\n",
      "Salary: 60-70, Z-statistic: -0.999498872431572, P-value: 0.31755308503035684\n",
      "\n",
      "Salary: 70-80, Z-statistic: -3.23034291424495, P-value: 0.001236418263684197\n",
      "\n",
      "Salary: 80-90, Z-statistic: -0.22998073934107438, P-value: 0.8181067363822674\n",
      "\n",
      "Salary: 90-100, Z-statistic: 3.750143445480409, P-value: 0.00017673344109006578\n",
      "\n",
      "Salary: 100-110, Z-statistic: 0.38196162718848253, P-value: 0.7024898275818646\n",
      "\n",
      "Salary: 110-120, Z-statistic: -0.5764812734511883, P-value: 0.5642899239489868\n"
     ]
    }
   ],
   "source": [
    "from statsmodels.stats.proportion import proportions_ztest\n",
    "\n",
    "nobs = np.array([total_men, total_women])\n",
    "for count, (index, row) in zip(observed_deserved, deserved_group_df.iterrows()):\n",
    "    stat, pval = proportions_ztest(count, nobs)\n",
    "    print(f\"\\nSalary: {row['salary_group']}, Z-statistic: {stat}, P-value: {pval}\")"
   ]
  },
  {
   "cell_type": "code",
   "execution_count": 58,
   "metadata": {},
   "outputs": [
    {
     "name": "stdout",
     "output_type": "stream",
     "text": [
      "Required sample size for salary group 60-70: 3908748.231367134\n",
      "Required sample size for salary group 70-80: 3034.2605882696944\n",
      "Required sample size for salary group 80-90: 360859.77676218137\n",
      "Required sample size for salary group 90-100: 2422.009567212415\n",
      "Required sample size for salary group 100-110: 3846705.5934491595\n",
      "Required sample size for salary group 110-120: 3924493.4248220245\n"
     ]
    }
   ],
   "source": [
    "from statsmodels.stats.power import zt_ind_solve_power\n",
    "# Parameters\n",
    "alpha = 0.05   # Significance level\n",
    "power = 0.80   # Power of the test\n",
    "\n",
    "for count, (index, row) in zip(observed_deserved, deserved_group_df.iterrows()):\n",
    "    p1 = count[0]/total_men\n",
    "    p2 = count[1]/total_women\n",
    "\n",
    "    effect_size = abs(p1 - p2)\n",
    "\n",
    "    # Calculate sample size per group\n",
    "    sample_size = zt_ind_solve_power(effect_size=effect_size, alpha=alpha, power=power, alternative='two-sided')\n",
    "    print(f\"Required sample size for salary group {row['salary_group']}: {sample_size}\")"
   ]
  },
  {
   "cell_type": "code",
   "execution_count": 59,
   "metadata": {},
   "outputs": [
    {
     "data": {
      "text/plain": [
       "<matplotlib.legend.Legend at 0x2535aad5dc0>"
      ]
     },
     "execution_count": 59,
     "metadata": {},
     "output_type": "execute_result"
    },
    {
     "data": {
      "image/png": "[encoded data removed]",
      "text/plain": [
       "<Figure size 640x480 with 1 Axes>"
      ]
     },
     "metadata": {},
     "output_type": "display_data"
    }
   ],
   "source": [
    "sns.histplot(df_male['deserved_salary'], color='purple', bins=20, label='Male')\n",
    "sns.histplot(df_female['deserved_salary'], color='green', bins=20, label='Female')\n",
    "plt.legend()"
   ]
  },
  {
   "cell_type": "code",
   "execution_count": 85,
   "metadata": {},
   "outputs": [
    {
     "data": {
      "text/plain": [
       "<Axes: xlabel='salary_group', ylabel='male'>"
      ]
     },
     "execution_count": 85,
     "metadata": {},
     "output_type": "execute_result"
    },
    {
     "data": {
      "image/png": "[encoded data removed]",
      "text/plain": [
       "<Figure size 640x480 with 1 Axes>"
      ]
     },
     "metadata": {},
     "output_type": "display_data"
    }
   ],
   "source": [
    "sns.histplot(deserved_group_df, x='salary_group',y='male', color='purple', bins=10, label='Male')\n",
    "sns.histplot(deserved_group_df, x='salary_group',y='female', color='green', bins=10, label='Female')"
   ]
  }
 ],
 "metadata": {
  "kernelspec": {
   "display_name": "02445",
   "language": "python",
   "name": "python3"
  },
  "language_info": {
   "codemirror_mode": {
    "name": "ipython",
    "version": 3
   },
   "file_extension": ".py",
   "mimetype": "text/x-python",
   "name": "python",
   "nbconvert_exporter": "python",
   "pygments_lexer": "ipython3",
   "version": "3.12.3"
  }
 },
 "nbformat": 4,
 "nbformat_minor": 2
}
