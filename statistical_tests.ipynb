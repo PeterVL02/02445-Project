{
 "cells": [
  {
   "cell_type": "code",
   "execution_count": 107,
   "metadata": {},
   "outputs": [],
   "source": [
    "import data_structure as ds\n",
    "from data_structure import Gender\n",
    "import numpy as np\n",
    "import matplotlib.pyplot as plt\n",
    "from sklearn.preprocessing import StandardScaler\n",
    "import statsmodels.stats.power as smp\n",
    "import scipy.stats as stats\n",
    "import pandas as pd\n",
    "import seaborn as sns"
   ]
  },
  {
   "cell_type": "code",
   "execution_count": 108,
   "metadata": {},
   "outputs": [],
   "source": [
    "# df = ds.search_all()\n",
    "df = ds.get_db('GPT')\n",
    "model_mask = df['round_'] == 5\n",
    "df = df[model_mask]\n",
    "\n",
    "df['gender_str'] = df['gender'].apply(lambda x: x.name)\n",
    "df = df.sort_values('deserved_salary')"
   ]
  },
  {
   "cell_type": "code",
   "execution_count": 109,
   "metadata": {},
   "outputs": [],
   "source": [
    "m_mask = df['gender'] == Gender.Male\n",
    "f_mask = df['gender'] == Gender.Female\n",
    "\n",
    "df_male, df_female = df[m_mask], df[f_mask]"
   ]
  },
  {
   "cell_type": "code",
   "execution_count": 110,
   "metadata": {},
   "outputs": [
    {
     "name": "stderr",
     "output_type": "stream",
     "text": [
      "C:\\Users\\pvest\\AppData\\Local\\Temp\\ipykernel_30748\\3839769549.py:28: FutureWarning: The default of observed=False is deprecated and will be changed to True in a future version of pandas. Pass observed=False to retain current behavior or observed=True to adopt the future default and silence this warning.\n",
      "  deserved_group_df = deserved_group_df.groupby('salary_group').sum().reset_index().drop(columns='salary')\n",
      "C:\\Users\\pvest\\AppData\\Local\\Temp\\ipykernel_30748\\3839769549.py:29: FutureWarning: The default of observed=False is deprecated and will be changed to True in a future version of pandas. Pass observed=False to retain current behavior or observed=True to adopt the future default and silence this warning.\n",
      "  current_group_df = current_group_df.groupby('salary_group').sum().reset_index().drop(columns='salary')\n"
     ]
    }
   ],
   "source": [
    "deserved_group_df = pd.concat(\n",
    "                    [df_male.value_counts('deserved_salary').sort_index(),\n",
    "                      df_female.value_counts('deserved_salary').sort_index()],\n",
    "                        axis=1).reset_index()\n",
    "deserved_group_df.replace(np.nan, 0, inplace=True)\n",
    "deserved_group_df = deserved_group_df.apply(lambda x: x.astype(int), axis=1)\n",
    "deserved_group_df.columns = ['salary',\t'male', 'female']\n",
    "\n",
    "current_group_df = pd.concat(\n",
    "                    [df_male.value_counts('current_salary').sort_index(),\n",
    "                     df_female.value_counts('current_salary').sort_index()],\n",
    "                        axis=1).reset_index()\n",
    "current_group_df.replace(np.nan, 0, inplace=True)\n",
    "current_group_df = current_group_df.apply(lambda x: x.astype(int), axis=1)\n",
    "current_group_df.columns = ['salary',\t'male', 'female']\n",
    "\n",
    "deserved_group_df = deserved_group_df.sort_values('salary')\n",
    "current_group_df = current_group_df.sort_values('salary')\n",
    "\n",
    "\n",
    "deserved_group_df['salary_group'] = pd.cut(deserved_group_df['salary'],\n",
    "                                            [0,80, 90, 100],\n",
    "                                            labels=['<80', '80-90', '>90'])\n",
    "current_group_df['salary_group'] = pd.cut(current_group_df['salary'],\n",
    "                                            [50, 60, 70, 80, 90],\n",
    "                                            labels=['50-60', '60-70', '70-80', '80-90'])\n",
    "\n",
    "deserved_group_df = deserved_group_df.groupby('salary_group').sum().reset_index().drop(columns='salary')\n",
    "current_group_df = current_group_df.groupby('salary_group').sum().reset_index().drop(columns='salary')"
   ]
  },
  {
   "cell_type": "code",
   "execution_count": 111,
   "metadata": {},
   "outputs": [
    {
     "name": "stdout",
     "output_type": "stream",
     "text": [
      "Deserved Salary Chi-square Test:\n",
      "Chi2 Stat: 21.584135628057737, P-value: 2.0561959530217348e-05, Degrees of Freedom: 2\n",
      "Current Salary Chi-square Test:\n",
      "Chi2 Stat: 25.91474962390877, P-value: 9.937531057369056e-06, Degrees of Freedom: 3\n"
     ]
    }
   ],
   "source": [
    "observed_deserved = deserved_group_df[['male', 'female']].to_numpy()\n",
    "\n",
    "observed_current = current_group_df[['male', 'female']].to_numpy()\n",
    "\n",
    "chi2_stat_deserved, p_val_deserved, dof_deserved, expected_deserved = stats.chi2_contingency(observed_deserved)\n",
    "print(f\"Deserved Salary Chi-square Test:\\nChi2 Stat: {chi2_stat_deserved}, P-value: {p_val_deserved}, Degrees of Freedom: {dof_deserved}\")\n",
    "\n",
    "chi2_stat_current, p_val_current, dof_current, expected_current = stats.chi2_contingency(observed_current)\n",
    "print(f\"Current Salary Chi-square Test:\\nChi2 Stat: {chi2_stat_current}, P-value: {p_val_current}, Degrees of Freedom: {dof_current}\")"
   ]
  },
  {
   "cell_type": "code",
   "execution_count": 112,
   "metadata": {},
   "outputs": [
    {
     "name": "stdout",
     "output_type": "stream",
     "text": [
      "Residuals:\n",
      " [[-2.1651851   2.16299251]\n",
      " [-0.08710351  0.0870153 ]\n",
      " [ 2.47131311 -2.46881051]]\n"
     ]
    }
   ],
   "source": [
    "# Calculating the residuals\n",
    "residuals = (observed_deserved - expected_deserved) / np.sqrt(expected_deserved)\n",
    "print(\"Residuals:\\n\", residuals)"
   ]
  },
  {
   "cell_type": "code",
   "execution_count": 113,
   "metadata": {},
   "outputs": [
    {
     "data": {
      "image/png": "[encoded data removed]",
      "text/plain": [
       "<Figure size 1000x600 with 1 Axes>"
      ]
     },
     "metadata": {},
     "output_type": "display_data"
    }
   ],
   "source": [
    "import seaborn as sns\n",
    "\n",
    "ticks = [\n",
    "    f'${salary}k' for salary in\n",
    "    deserved_group_df['salary_group'].to_numpy()\n",
    "    ]\n",
    "male_residuals = residuals[:, 0]\n",
    "female_residuals = residuals[:, 1]\n",
    "plt.figure(figsize=(10, 6))\n",
    "sns.barplot(x=ticks, y=male_residuals, color='purple', label='Male')\n",
    "sns.barplot(x=ticks, y=female_residuals, color='green', label='Female')\n",
    "plt.xlabel('Salary')\n",
    "plt.ylabel('Residuals')\n",
    "plt.title('Residuals by Deserved Salary and Gender')\n",
    "plt.legend()\n",
    "plt.show()"
   ]
  },
  {
   "cell_type": "code",
   "execution_count": 114,
   "metadata": {},
   "outputs": [
    {
     "name": "stdout",
     "output_type": "stream",
     "text": [
      "Proportions of Men in Each Salary Category: [np.float64(0.10953346855983773), np.float64(0.716024340770791), np.float64(0.1744421906693712)]\n",
      "Proportions of Women in Each Salary Category: [np.float64(0.18421052631578946), np.float64(0.7226720647773279), np.float64(0.0931174089068826)]\n"
     ]
    }
   ],
   "source": [
    "total_men = deserved_group_df['male'].sum()\n",
    "total_women = deserved_group_df['female'].sum()\n",
    "proportions_men = [count / total_men for count in deserved_group_df['male']]\n",
    "proportions_women = [count / total_women for count in deserved_group_df['female']]\n",
    "\n",
    "print(\"Proportions of Men in Each Salary Category:\", proportions_men)\n",
    "print(\"Proportions of Women in Each Salary Category:\", proportions_women)"
   ]
  },
  {
   "cell_type": "code",
   "execution_count": 115,
   "metadata": {},
   "outputs": [
    {
     "data": {
      "text/html": [
       "<div>\n",
       "<style scoped>\n",
       "    .dataframe tbody tr th:only-of-type {\n",
       "        vertical-align: middle;\n",
       "    }\n",
       "\n",
       "    .dataframe tbody tr th {\n",
       "        vertical-align: top;\n",
       "    }\n",
       "\n",
       "    .dataframe thead th {\n",
       "        text-align: right;\n",
       "    }\n",
       "</style>\n",
       "<table border=\"1\" class=\"dataframe\">\n",
       "  <thead>\n",
       "    <tr style=\"text-align: right;\">\n",
       "      <th></th>\n",
       "      <th>salary_group</th>\n",
       "      <th>male</th>\n",
       "      <th>female</th>\n",
       "    </tr>\n",
       "  </thead>\n",
       "  <tbody>\n",
       "    <tr>\n",
       "      <th>0</th>\n",
       "      <td>&lt;80</td>\n",
       "      <td>54</td>\n",
       "      <td>91</td>\n",
       "    </tr>\n",
       "    <tr>\n",
       "      <th>1</th>\n",
       "      <td>80-90</td>\n",
       "      <td>353</td>\n",
       "      <td>357</td>\n",
       "    </tr>\n",
       "    <tr>\n",
       "      <th>2</th>\n",
       "      <td>&gt;90</td>\n",
       "      <td>86</td>\n",
       "      <td>46</td>\n",
       "    </tr>\n",
       "  </tbody>\n",
       "</table>\n",
       "</div>"
      ],
      "text/plain": [
       "  salary_group  male  female\n",
       "0          <80    54      91\n",
       "1        80-90   353     357\n",
       "2          >90    86      46"
      ]
     },
     "execution_count": 115,
     "metadata": {},
     "output_type": "execute_result"
    }
   ],
   "source": [
    "deserved_group_df"
   ]
  },
  {
   "cell_type": "code",
   "execution_count": 116,
   "metadata": {},
   "outputs": [
    {
     "name": "stdout",
     "output_type": "stream",
     "text": [
      "\n",
      "Salary: <80, Z-statistic: -3.3135433917291794, P-value: 0.000921218117487502\n",
      "\n",
      "Salary: 80-90, Z-statistic: -0.23240712169851466, P-value: 0.8162218180315582\n",
      "\n",
      "Salary: >90, Z-statistic: 3.7531713631458072, P-value: 0.00017461140207594925\n"
     ]
    }
   ],
   "source": [
    "from statsmodels.stats.proportion import proportions_ztest\n",
    "\n",
    "nobs = np.array([total_men, total_women])\n",
    "for count, (index, row) in zip(observed_deserved, deserved_group_df.iterrows()):\n",
    "    stat, pval = proportions_ztest(count, nobs)\n",
    "    print(f\"\\nSalary: {row['salary_group']}, Z-statistic: {stat}, P-value: {pval}\")"
   ]
  },
  {
   "cell_type": "code",
   "execution_count": 117,
   "metadata": {},
   "outputs": [
    {
     "name": "stdout",
     "output_type": "stream",
     "text": [
      "Required sample size for salary group <80: 2814.8950628795455\n",
      "Required sample size for salary group 80-90: 355214.4671558428\n",
      "Required sample size for salary group >90: 2373.5085115713764\n"
     ]
    }
   ],
   "source": [
    "from statsmodels.stats.power import zt_ind_solve_power\n",
    "# Parameters\n",
    "alpha = 0.05   # Significance level\n",
    "power = 0.80   # Power of the test\n",
    "\n",
    "for count, (index, row) in zip(observed_deserved, deserved_group_df.iterrows()):\n",
    "    p1 = count[0]/total_men\n",
    "    p2 = count[1]/total_women\n",
    "\n",
    "    effect_size = abs(p1 - p2)\n",
    "\n",
    "    # Calculate sample size per group\n",
    "    sample_size = zt_ind_solve_power(effect_size=effect_size, alpha=alpha, power=power, alternative='two-sided')\n",
    "    print(f\"Required sample size for salary group {row['salary_group']}: {sample_size}\")"
   ]
  },
  {
   "cell_type": "code",
   "execution_count": 118,
   "metadata": {},
   "outputs": [
    {
     "data": {
      "text/plain": [
       "<matplotlib.legend.Legend at 0x25363c9a690>"
      ]
     },
     "execution_count": 118,
     "metadata": {},
     "output_type": "execute_result"
    },
    {
     "data": {
      "image/png": "[encoded data removed]",
      "text/plain": [
       "<Figure size 640x480 with 1 Axes>"
      ]
     },
     "metadata": {},
     "output_type": "display_data"
    }
   ],
   "source": [
    "sns.histplot(df_male['deserved_salary'], color='purple', bins=20, label='Male')\n",
    "sns.histplot(df_female['deserved_salary'], color='green', bins=20, label='Female')\n",
    "plt.legend()"
   ]
  },
  {
   "cell_type": "code",
   "execution_count": 119,
   "metadata": {},
   "outputs": [
    {
     "data": {
      "text/plain": [
       "<Axes: xlabel='salary_group', ylabel='male'>"
      ]
     },
     "execution_count": 119,
     "metadata": {},
     "output_type": "execute_result"
    },
    {
     "data": {
      "image/png": "[encoded data removed]",
      "text/plain": [
       "<Figure size 640x480 with 1 Axes>"
      ]
     },
     "metadata": {},
     "output_type": "display_data"
    }
   ],
   "source": [
    "sns.histplot(deserved_group_df, x='salary_group',y='male', color='purple', bins=10, label='Male')\n",
    "sns.histplot(deserved_group_df, x='salary_group',y='female', color='green', bins=10, label='Female')"
   ]
  }
 ],
 "metadata": {
  "kernelspec": {
   "display_name": "02445",
   "language": "python",
   "name": "python3"
  },
  "language_info": {
   "codemirror_mode": {
    "name": "ipython",
    "version": 3
   },
   "file_extension": ".py",
   "mimetype": "text/x-python",
   "name": "python",
   "nbconvert_exporter": "python",
   "pygments_lexer": "ipython3",
   "version": "3.12.3"
  }
 },
 "nbformat": 4,
 "nbformat_minor": 2
}
