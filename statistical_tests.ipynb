{
 "cells": [
  {
   "cell_type": "code",
   "execution_count": 36,
   "metadata": {},
   "outputs": [],
   "source": [
    "import data_structure as ds\n",
    "from data_structure import Gender\n",
    "import numpy as np\n",
    "import matplotlib.pyplot as plt\n",
    "from sklearn.preprocessing import StandardScaler\n",
    "import statsmodels.stats.power as smp\n",
    "import scipy.stats as stats\n",
    "import pandas as pd"
   ]
  },
  {
   "cell_type": "code",
   "execution_count": 28,
   "metadata": {},
   "outputs": [],
   "source": [
    "df = ds.search_all()\n",
    "df['gender_str'] = df['gender'].apply(lambda x: x.name)"
   ]
  },
  {
   "cell_type": "code",
   "execution_count": 29,
   "metadata": {},
   "outputs": [],
   "source": [
    "m_mask = df['gender'] == Gender.Male\n",
    "f_mask = df['gender'] == Gender.Female\n",
    "\n",
    "df_male, df_female = df[m_mask], df[f_mask]"
   ]
  },
  {
   "cell_type": "code",
   "execution_count": 80,
   "metadata": {},
   "outputs": [
    {
     "data": {
      "text/html": [
       "<div>\n",
       "<style scoped>\n",
       "    .dataframe tbody tr th:only-of-type {\n",
       "        vertical-align: middle;\n",
       "    }\n",
       "\n",
       "    .dataframe tbody tr th {\n",
       "        vertical-align: top;\n",
       "    }\n",
       "\n",
       "    .dataframe thead th {\n",
       "        text-align: right;\n",
       "    }\n",
       "</style>\n",
       "<table border=\"1\" class=\"dataframe\">\n",
       "  <thead>\n",
       "    <tr style=\"text-align: right;\">\n",
       "      <th></th>\n",
       "      <th>salary</th>\n",
       "      <th>male</th>\n",
       "      <th>female</th>\n",
       "    </tr>\n",
       "  </thead>\n",
       "  <tbody>\n",
       "    <tr>\n",
       "      <th>0</th>\n",
       "      <td>95</td>\n",
       "      <td>15</td>\n",
       "      <td>20</td>\n",
       "    </tr>\n",
       "    <tr>\n",
       "      <th>1</th>\n",
       "      <td>100</td>\n",
       "      <td>18</td>\n",
       "      <td>34</td>\n",
       "    </tr>\n",
       "    <tr>\n",
       "      <th>2</th>\n",
       "      <td>105</td>\n",
       "      <td>14</td>\n",
       "      <td>16</td>\n",
       "    </tr>\n",
       "    <tr>\n",
       "      <th>3</th>\n",
       "      <td>110</td>\n",
       "      <td>50</td>\n",
       "      <td>23</td>\n",
       "    </tr>\n",
       "    <tr>\n",
       "      <th>4</th>\n",
       "      <td>115</td>\n",
       "      <td>6</td>\n",
       "      <td>2</td>\n",
       "    </tr>\n",
       "    <tr>\n",
       "      <th>5</th>\n",
       "      <td>120</td>\n",
       "      <td>2</td>\n",
       "      <td>0</td>\n",
       "    </tr>\n",
       "  </tbody>\n",
       "</table>\n",
       "</div>"
      ],
      "text/plain": [
       "   salary  male  female\n",
       "0      95    15      20\n",
       "1     100    18      34\n",
       "2     105    14      16\n",
       "3     110    50      23\n",
       "4     115     6       2\n",
       "5     120     2       0"
      ]
     },
     "metadata": {},
     "output_type": "display_data"
    },
    {
     "data": {
      "text/html": [
       "<div>\n",
       "<style scoped>\n",
       "    .dataframe tbody tr th:only-of-type {\n",
       "        vertical-align: middle;\n",
       "    }\n",
       "\n",
       "    .dataframe tbody tr th {\n",
       "        vertical-align: top;\n",
       "    }\n",
       "\n",
       "    .dataframe thead th {\n",
       "        text-align: right;\n",
       "    }\n",
       "</style>\n",
       "<table border=\"1\" class=\"dataframe\">\n",
       "  <thead>\n",
       "    <tr style=\"text-align: right;\">\n",
       "      <th></th>\n",
       "      <th>salary</th>\n",
       "      <th>male</th>\n",
       "      <th>female</th>\n",
       "    </tr>\n",
       "  </thead>\n",
       "  <tbody>\n",
       "    <tr>\n",
       "      <th>0</th>\n",
       "      <td>85</td>\n",
       "      <td>76</td>\n",
       "      <td>89</td>\n",
       "    </tr>\n",
       "    <tr>\n",
       "      <th>1</th>\n",
       "      <td>90</td>\n",
       "      <td>1</td>\n",
       "      <td>0</td>\n",
       "    </tr>\n",
       "    <tr>\n",
       "      <th>2</th>\n",
       "      <td>92</td>\n",
       "      <td>1</td>\n",
       "      <td>0</td>\n",
       "    </tr>\n",
       "    <tr>\n",
       "      <th>3</th>\n",
       "      <td>95</td>\n",
       "      <td>27</td>\n",
       "      <td>4</td>\n",
       "    </tr>\n",
       "    <tr>\n",
       "      <th>4</th>\n",
       "      <td>80</td>\n",
       "      <td>0</td>\n",
       "      <td>2</td>\n",
       "    </tr>\n",
       "  </tbody>\n",
       "</table>\n",
       "</div>"
      ],
      "text/plain": [
       "   salary  male  female\n",
       "0      85    76      89\n",
       "1      90     1       0\n",
       "2      92     1       0\n",
       "3      95    27       4\n",
       "4      80     0       2"
      ]
     },
     "metadata": {},
     "output_type": "display_data"
    }
   ],
   "source": [
    "deserved_group_df = pd.concat(\n",
    "                    [df_male.value_counts('deserved_salary').sort_index(),\n",
    "                      df_female.value_counts('deserved_salary').sort_index()],\n",
    "                        axis=1).reset_index()\n",
    "deserved_group_df.replace(np.nan, 0, inplace=True)\n",
    "deserved_group_df = deserved_group_df.apply(lambda x: x.astype(int), axis=1)\n",
    "deserved_group_df.columns = ['salary',\t'male', 'female']\n",
    "\n",
    "current_group_df = pd.concat(\n",
    "                    [df_male.value_counts('current_salary').sort_index(),\n",
    "                     df_female.value_counts('current_salary').sort_index()],\n",
    "                        axis=1).reset_index()\n",
    "current_group_df.replace(np.nan, 0, inplace=True)\n",
    "current_group_df = current_group_df.apply(lambda x: x.astype(int), axis=1)\n",
    "current_group_df.columns = ['salary',\t'male', 'female']\n",
    "\n",
    "display(deserved_group_df)\n",
    "display(current_group_df)"
   ]
  },
  {
   "cell_type": "code",
   "execution_count": 84,
   "metadata": {},
   "outputs": [
    {
     "name": "stdout",
     "output_type": "stream",
     "text": [
      "Deserved Salary Chi-square Test:\n",
      "Chi2 Stat: 19.305260491788452, P-value: 0.0016860052118483518, Degrees of Freedom: 5\n",
      "Current Salary Chi-square Test:\n",
      "Chi2 Stat: 21.642865717568608, P-value: 0.00023603779182530522, Degrees of Freedom: 4\n"
     ]
    }
   ],
   "source": [
    "observed_deserved = deserved_group_df[['male', 'female']].to_numpy()\n",
    "\n",
    "observed_current = current_group_df[['male', 'female']].to_numpy()\n",
    "\n",
    "chi2_stat_deserved, p_val_deserved, dof_deserved, expected_deserved = stats.chi2_contingency(observed_deserved)\n",
    "print(f\"Deserved Salary Chi-square Test:\\nChi2 Stat: {chi2_stat_deserved}, P-value: {p_val_deserved}, Degrees of Freedom: {dof_deserved}\")\n",
    "\n",
    "chi2_stat_current, p_val_current, dof_current, expected_current = stats.chi2_contingency(observed_current)\n",
    "print(f\"Current Salary Chi-square Test:\\nChi2 Stat: {chi2_stat_current}, P-value: {p_val_current}, Degrees of Freedom: {dof_current}\")"
   ]
  },
  {
   "cell_type": "code",
   "execution_count": 96,
   "metadata": {},
   "outputs": [
    {
     "name": "stdout",
     "output_type": "stream",
     "text": [
      "Residuals:\n",
      " [[-0.78733599  0.82773811]\n",
      " [-1.77992468  1.87126146]\n",
      " [-0.44095855  0.46358632]\n",
      " [ 1.88588761 -1.98266187]\n",
      " [ 0.87831007 -0.92338052]\n",
      " [ 0.92710507 -0.97467943]]\n"
     ]
    }
   ],
   "source": [
    "# Calculating the residuals\n",
    "residuals = (observed_deserved - expected_deserved) / np.sqrt(expected_deserved)\n",
    "print(\"Residuals:\\n\", residuals)"
   ]
  },
  {
   "cell_type": "code",
   "execution_count": 97,
   "metadata": {},
   "outputs": [
    {
     "name": "stdout",
     "output_type": "stream",
     "text": [
      "Proportions of Men in Each Salary Category: [np.float64(0.14285714285714285), np.float64(0.17142857142857143), np.float64(0.13333333333333333), np.float64(0.47619047619047616), np.float64(0.05714285714285714), np.float64(0.01904761904761905)]\n",
      "Proportions of Women in Each Salary Category: [np.float64(0.21052631578947367), np.float64(0.35789473684210527), np.float64(0.16842105263157894), np.float64(0.24210526315789474), np.float64(0.021052631578947368), np.float64(0.0)]\n"
     ]
    }
   ],
   "source": [
    "total_men = deserved_group_df['male'].sum()\n",
    "total_women = deserved_group_df['female'].sum()\n",
    "proportions_men = [count / total_men for count in deserved_group_df['male']]\n",
    "proportions_women = [count / total_women for count in deserved_group_df['female']]\n",
    "\n",
    "print(\"Proportions of Men in Each Salary Category:\", proportions_men)\n",
    "print(\"Proportions of Women in Each Salary Category:\", proportions_women)"
   ]
  },
  {
   "cell_type": "code",
   "execution_count": 103,
   "metadata": {},
   "outputs": [
    {
     "data": {
      "text/html": [
       "<div>\n",
       "<style scoped>\n",
       "    .dataframe tbody tr th:only-of-type {\n",
       "        vertical-align: middle;\n",
       "    }\n",
       "\n",
       "    .dataframe tbody tr th {\n",
       "        vertical-align: top;\n",
       "    }\n",
       "\n",
       "    .dataframe thead th {\n",
       "        text-align: right;\n",
       "    }\n",
       "</style>\n",
       "<table border=\"1\" class=\"dataframe\">\n",
       "  <thead>\n",
       "    <tr style=\"text-align: right;\">\n",
       "      <th></th>\n",
       "      <th>salary</th>\n",
       "      <th>male</th>\n",
       "      <th>female</th>\n",
       "    </tr>\n",
       "  </thead>\n",
       "  <tbody>\n",
       "    <tr>\n",
       "      <th>0</th>\n",
       "      <td>95</td>\n",
       "      <td>15</td>\n",
       "      <td>20</td>\n",
       "    </tr>\n",
       "    <tr>\n",
       "      <th>1</th>\n",
       "      <td>100</td>\n",
       "      <td>18</td>\n",
       "      <td>34</td>\n",
       "    </tr>\n",
       "    <tr>\n",
       "      <th>2</th>\n",
       "      <td>105</td>\n",
       "      <td>14</td>\n",
       "      <td>16</td>\n",
       "    </tr>\n",
       "    <tr>\n",
       "      <th>3</th>\n",
       "      <td>110</td>\n",
       "      <td>50</td>\n",
       "      <td>23</td>\n",
       "    </tr>\n",
       "    <tr>\n",
       "      <th>4</th>\n",
       "      <td>115</td>\n",
       "      <td>6</td>\n",
       "      <td>2</td>\n",
       "    </tr>\n",
       "    <tr>\n",
       "      <th>5</th>\n",
       "      <td>120</td>\n",
       "      <td>2</td>\n",
       "      <td>0</td>\n",
       "    </tr>\n",
       "  </tbody>\n",
       "</table>\n",
       "</div>"
      ],
      "text/plain": [
       "   salary  male  female\n",
       "0      95    15      20\n",
       "1     100    18      34\n",
       "2     105    14      16\n",
       "3     110    50      23\n",
       "4     115     6       2\n",
       "5     120     2       0"
      ]
     },
     "execution_count": 103,
     "metadata": {},
     "output_type": "execute_result"
    }
   ],
   "source": [
    "deserved_group_df"
   ]
  },
  {
   "cell_type": "code",
   "execution_count": 102,
   "metadata": {},
   "outputs": [
    {
     "name": "stdout",
     "output_type": "stream",
     "text": [
      "\n",
      "Salary: 95, Z-statistic: -1.2577268264001904, P-value: 0.2084905669540421\n",
      "\n",
      "Salary: 100, Z-statistic: -3.0021954357153477, P-value: 0.0026804003454815695\n",
      "\n",
      "Salary: 105, Z-statistic: -0.6939712870363024, P-value: 0.4877002157180125\n",
      "\n",
      "Salary: 110, Z-statistic: 3.4338564831558394, P-value: 0.0005950591683321875\n",
      "\n",
      "Salary: 115, Z-statistic: 1.30066495428618, P-value: 0.19337316310500363\n",
      "\n",
      "Salary: 120, Z-statistic: 1.3519622138957241, P-value: 0.1763874034088727\n"
     ]
    }
   ],
   "source": [
    "from statsmodels.stats.proportion import proportions_ztest\n",
    "\n",
    "nobs = np.array([total_men, total_women])\n",
    "for count, (index, row) in zip(observed_deserved, deserved_group_df.iterrows()):\n",
    "    stat, pval = proportions_ztest(count, nobs)\n",
    "    print(f\"\\nSalary: {row['salary']}, Z-statistic: {stat}, P-value: {pval}\")"
   ]
  },
  {
   "cell_type": "code",
   "execution_count": 106,
   "metadata": {},
   "outputs": [
    {
     "name": "stdout",
     "output_type": "stream",
     "text": [
      "Required sample size for salary group 95: 3428.110951838808\n",
      "Required sample size for salary group 100: 451.47793167742066\n",
      "Required sample size for salary group 105: 12750.473898260503\n",
      "Required sample size for salary group 110: 286.47626460985924\n",
      "Required sample size for salary group 115: 12051.952565055728\n",
      "Required sample size for salary group 120: 43266.84355717066\n"
     ]
    }
   ],
   "source": [
    "from statsmodels.stats.power import zt_ind_solve_power\n",
    "# Parameters\n",
    "alpha = 0.05   # Significance level\n",
    "power = 0.80   # Power of the test\n",
    "\n",
    "for count, (index, row) in zip(observed_deserved, deserved_group_df.iterrows()):\n",
    "    p1 = count[0]/total_men\n",
    "    p2 = count[1]/total_women\n",
    "\n",
    "    effect_size = abs(p1 - p2)\n",
    "\n",
    "    # Calculate sample size per group\n",
    "    sample_size = zt_ind_solve_power(effect_size=effect_size, alpha=alpha, power=power, alternative='two-sided')\n",
    "    print(f\"Required sample size for salary group {row['salary']}: {sample_size}\")"
   ]
  }
 ],
 "metadata": {
  "kernelspec": {
   "display_name": "02445",
   "language": "python",
   "name": "python3"
  },
  "language_info": {
   "codemirror_mode": {
    "name": "ipython",
    "version": 3
   },
   "file_extension": ".py",
   "mimetype": "text/x-python",
   "name": "python",
   "nbconvert_exporter": "python",
   "pygments_lexer": "ipython3",
   "version": "3.12.3"
  }
 },
 "nbformat": 4,
 "nbformat_minor": 2
}
