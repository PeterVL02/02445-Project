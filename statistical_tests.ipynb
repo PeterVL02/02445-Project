{
 "cells": [
  {
   "cell_type": "code",
   "execution_count": 1,
   "metadata": {},
   "outputs": [],
   "source": [
    "import data_structure as ds\n",
    "from data_structure import Gender\n",
    "import numpy as np\n",
    "import matplotlib.pyplot as plt\n",
    "from sklearn.preprocessing import StandardScaler\n",
    "import statsmodels.stats.power as smp\n",
    "import scipy.stats as stats\n",
    "import pandas as pd\n",
    "import seaborn as sns"
   ]
  },
  {
   "cell_type": "code",
   "execution_count": 2,
   "metadata": {},
   "outputs": [],
   "source": [
    "# df = ds.search_all()\n",
    "df = ds.get_db('GPT')\n",
    "df['gender_str'] = df['gender'].apply(lambda x: x.name)"
   ]
  },
  {
   "cell_type": "code",
   "execution_count": 3,
   "metadata": {},
   "outputs": [],
   "source": [
    "m_mask = df['gender'] == Gender.Male\n",
    "f_mask = df['gender'] == Gender.Female\n",
    "\n",
    "df_male, df_female = df[m_mask], df[f_mask]"
   ]
  },
  {
   "cell_type": "code",
   "execution_count": 4,
   "metadata": {},
   "outputs": [
    {
     "data": {
      "text/html": [
       "<div>\n",
       "<style scoped>\n",
       "    .dataframe tbody tr th:only-of-type {\n",
       "        vertical-align: middle;\n",
       "    }\n",
       "\n",
       "    .dataframe tbody tr th {\n",
       "        vertical-align: top;\n",
       "    }\n",
       "\n",
       "    .dataframe thead th {\n",
       "        text-align: right;\n",
       "    }\n",
       "</style>\n",
       "<table border=\"1\" class=\"dataframe\">\n",
       "  <thead>\n",
       "    <tr style=\"text-align: right;\">\n",
       "      <th></th>\n",
       "      <th>salary</th>\n",
       "      <th>male</th>\n",
       "      <th>female</th>\n",
       "    </tr>\n",
       "  </thead>\n",
       "  <tbody>\n",
       "    <tr>\n",
       "      <th>0</th>\n",
       "      <td>75</td>\n",
       "      <td>47</td>\n",
       "      <td>68</td>\n",
       "    </tr>\n",
       "    <tr>\n",
       "      <th>1</th>\n",
       "      <td>80</td>\n",
       "      <td>26</td>\n",
       "      <td>40</td>\n",
       "    </tr>\n",
       "    <tr>\n",
       "      <th>2</th>\n",
       "      <td>85</td>\n",
       "      <td>290</td>\n",
       "      <td>272</td>\n",
       "    </tr>\n",
       "    <tr>\n",
       "      <th>3</th>\n",
       "      <td>90</td>\n",
       "      <td>102</td>\n",
       "      <td>87</td>\n",
       "    </tr>\n",
       "    <tr>\n",
       "      <th>4</th>\n",
       "      <td>95</td>\n",
       "      <td>7</td>\n",
       "      <td>8</td>\n",
       "    </tr>\n",
       "    <tr>\n",
       "      <th>5</th>\n",
       "      <td>100</td>\n",
       "      <td>24</td>\n",
       "      <td>17</td>\n",
       "    </tr>\n",
       "    <tr>\n",
       "      <th>6</th>\n",
       "      <td>110</td>\n",
       "      <td>1</td>\n",
       "      <td>0</td>\n",
       "    </tr>\n",
       "    <tr>\n",
       "      <th>7</th>\n",
       "      <td>70</td>\n",
       "      <td>0</td>\n",
       "      <td>2</td>\n",
       "    </tr>\n",
       "  </tbody>\n",
       "</table>\n",
       "</div>"
      ],
      "text/plain": [
       "   salary  male  female\n",
       "0      75    47      68\n",
       "1      80    26      40\n",
       "2      85   290     272\n",
       "3      90   102      87\n",
       "4      95     7       8\n",
       "5     100    24      17\n",
       "6     110     1       0\n",
       "7      70     0       2"
      ]
     },
     "metadata": {},
     "output_type": "display_data"
    },
    {
     "data": {
      "text/html": [
       "<div>\n",
       "<style scoped>\n",
       "    .dataframe tbody tr th:only-of-type {\n",
       "        vertical-align: middle;\n",
       "    }\n",
       "\n",
       "    .dataframe tbody tr th {\n",
       "        vertical-align: top;\n",
       "    }\n",
       "\n",
       "    .dataframe thead th {\n",
       "        text-align: right;\n",
       "    }\n",
       "</style>\n",
       "<table border=\"1\" class=\"dataframe\">\n",
       "  <thead>\n",
       "    <tr style=\"text-align: right;\">\n",
       "      <th></th>\n",
       "      <th>salary</th>\n",
       "      <th>male</th>\n",
       "      <th>female</th>\n",
       "    </tr>\n",
       "  </thead>\n",
       "  <tbody>\n",
       "    <tr>\n",
       "      <th>0</th>\n",
       "      <td>60</td>\n",
       "      <td>61</td>\n",
       "      <td>81</td>\n",
       "    </tr>\n",
       "    <tr>\n",
       "      <th>1</th>\n",
       "      <td>65</td>\n",
       "      <td>14</td>\n",
       "      <td>31</td>\n",
       "    </tr>\n",
       "    <tr>\n",
       "      <th>2</th>\n",
       "      <td>70</td>\n",
       "      <td>364</td>\n",
       "      <td>321</td>\n",
       "    </tr>\n",
       "    <tr>\n",
       "      <th>3</th>\n",
       "      <td>75</td>\n",
       "      <td>27</td>\n",
       "      <td>36</td>\n",
       "    </tr>\n",
       "    <tr>\n",
       "      <th>4</th>\n",
       "      <td>80</td>\n",
       "      <td>29</td>\n",
       "      <td>24</td>\n",
       "    </tr>\n",
       "    <tr>\n",
       "      <th>5</th>\n",
       "      <td>85</td>\n",
       "      <td>1</td>\n",
       "      <td>0</td>\n",
       "    </tr>\n",
       "    <tr>\n",
       "      <th>6</th>\n",
       "      <td>90</td>\n",
       "      <td>1</td>\n",
       "      <td>0</td>\n",
       "    </tr>\n",
       "    <tr>\n",
       "      <th>7</th>\n",
       "      <td>0</td>\n",
       "      <td>0</td>\n",
       "      <td>1</td>\n",
       "    </tr>\n",
       "  </tbody>\n",
       "</table>\n",
       "</div>"
      ],
      "text/plain": [
       "   salary  male  female\n",
       "0      60    61      81\n",
       "1      65    14      31\n",
       "2      70   364     321\n",
       "3      75    27      36\n",
       "4      80    29      24\n",
       "5      85     1       0\n",
       "6      90     1       0\n",
       "7       0     0       1"
      ]
     },
     "metadata": {},
     "output_type": "display_data"
    }
   ],
   "source": [
    "deserved_group_df = pd.concat(\n",
    "                    [df_male.value_counts('deserved_salary').sort_index(),\n",
    "                      df_female.value_counts('deserved_salary').sort_index()],\n",
    "                        axis=1).reset_index()\n",
    "deserved_group_df.replace(np.nan, 0, inplace=True)\n",
    "deserved_group_df = deserved_group_df.apply(lambda x: x.astype(int), axis=1)\n",
    "deserved_group_df.columns = ['salary',\t'male', 'female']\n",
    "\n",
    "current_group_df = pd.concat(\n",
    "                    [df_male.value_counts('current_salary').sort_index(),\n",
    "                     df_female.value_counts('current_salary').sort_index()],\n",
    "                        axis=1).reset_index()\n",
    "current_group_df.replace(np.nan, 0, inplace=True)\n",
    "current_group_df = current_group_df.apply(lambda x: x.astype(int), axis=1)\n",
    "current_group_df.columns = ['salary',\t'male', 'female']\n",
    "\n",
    "display(deserved_group_df)\n",
    "display(current_group_df)"
   ]
  },
  {
   "cell_type": "code",
   "execution_count": 5,
   "metadata": {},
   "outputs": [
    {
     "name": "stdout",
     "output_type": "stream",
     "text": [
      "Deserved Salary Chi-square Test:\n",
      "Chi2 Stat: 12.824292631206621, P-value: 0.07650696596066255, Degrees of Freedom: 7\n",
      "Current Salary Chi-square Test:\n",
      "Chi2 Stat: 16.686877289073703, P-value: 0.019530739169493983, Degrees of Freedom: 7\n"
     ]
    }
   ],
   "source": [
    "observed_deserved = deserved_group_df[['male', 'female']].to_numpy()\n",
    "\n",
    "observed_current = current_group_df[['male', 'female']].to_numpy()\n",
    "\n",
    "chi2_stat_deserved, p_val_deserved, dof_deserved, expected_deserved = stats.chi2_contingency(observed_deserved)\n",
    "print(f\"Deserved Salary Chi-square Test:\\nChi2 Stat: {chi2_stat_deserved}, P-value: {p_val_deserved}, Degrees of Freedom: {dof_deserved}\")\n",
    "\n",
    "chi2_stat_current, p_val_current, dof_current, expected_current = stats.chi2_contingency(observed_current)\n",
    "print(f\"Current Salary Chi-square Test:\\nChi2 Stat: {chi2_stat_current}, P-value: {p_val_current}, Degrees of Freedom: {dof_current}\")"
   ]
  },
  {
   "cell_type": "code",
   "execution_count": 6,
   "metadata": {},
   "outputs": [
    {
     "name": "stdout",
     "output_type": "stream",
     "text": [
      "Residuals:\n",
      " [[-1.40552839  1.40978972]\n",
      " [-1.23406729  1.23780879]\n",
      " [ 0.48541493 -0.48688663]\n",
      " [ 0.74096786 -0.74321436]\n",
      " [-0.1905764   0.19115419]\n",
      " [ 0.75816753 -0.76046618]\n",
      " [ 0.70390156 -0.70603568]\n",
      " [-1.00151248  1.00454891]]\n"
     ]
    }
   ],
   "source": [
    "# Calculating the residuals\n",
    "residuals = (observed_deserved - expected_deserved) / np.sqrt(expected_deserved)\n",
    "print(\"Residuals:\\n\", residuals)"
   ]
  },
  {
   "cell_type": "code",
   "execution_count": 7,
   "metadata": {},
   "outputs": [
    {
     "data": {
      "image/png": "[encoded data removed]",
      "text/plain": [
       "<Figure size 1000x600 with 1 Axes>"
      ]
     },
     "metadata": {},
     "output_type": "display_data"
    }
   ],
   "source": [
    "import seaborn as sns\n",
    "\n",
    "ticks = [\n",
    "    f'${salary}k' for salary in\n",
    "    deserved_group_df['salary'].to_numpy()\n",
    "    ]\n",
    "male_residuals = residuals[:, 0]\n",
    "female_residuals = residuals[:, 1]\n",
    "plt.figure(figsize=(10, 6))\n",
    "sns.barplot(x=ticks, y=male_residuals, color='purple', label='Male')\n",
    "sns.barplot(x=ticks, y=female_residuals, color='green', label='Female')\n",
    "plt.xlabel('Salary')\n",
    "plt.ylabel('Residuals')\n",
    "plt.title('Residuals by Deserved Salary and Gender')\n",
    "plt.legend()\n",
    "plt.show()"
   ]
  },
  {
   "cell_type": "code",
   "execution_count": 8,
   "metadata": {},
   "outputs": [
    {
     "name": "stdout",
     "output_type": "stream",
     "text": [
      "Proportions of Men in Each Salary Category: [np.float64(0.09456740442655935), np.float64(0.052313883299798795), np.float64(0.5835010060362174), np.float64(0.2052313883299799), np.float64(0.014084507042253521), np.float64(0.0482897384305835), np.float64(0.002012072434607646), np.float64(0.0)]\n",
      "Proportions of Women in Each Salary Category: [np.float64(0.13765182186234817), np.float64(0.08097165991902834), np.float64(0.5506072874493927), np.float64(0.17611336032388664), np.float64(0.016194331983805668), np.float64(0.03441295546558704), np.float64(0.0), np.float64(0.004048582995951417)]\n"
     ]
    }
   ],
   "source": [
    "total_men = deserved_group_df['male'].sum()\n",
    "total_women = deserved_group_df['female'].sum()\n",
    "proportions_men = [count / total_men for count in deserved_group_df['male']]\n",
    "proportions_women = [count / total_women for count in deserved_group_df['female']]\n",
    "\n",
    "print(\"Proportions of Men in Each Salary Category:\", proportions_men)\n",
    "print(\"Proportions of Women in Each Salary Category:\", proportions_women)"
   ]
  },
  {
   "cell_type": "code",
   "execution_count": 9,
   "metadata": {},
   "outputs": [
    {
     "data": {
      "text/html": [
       "<div>\n",
       "<style scoped>\n",
       "    .dataframe tbody tr th:only-of-type {\n",
       "        vertical-align: middle;\n",
       "    }\n",
       "\n",
       "    .dataframe tbody tr th {\n",
       "        vertical-align: top;\n",
       "    }\n",
       "\n",
       "    .dataframe thead th {\n",
       "        text-align: right;\n",
       "    }\n",
       "</style>\n",
       "<table border=\"1\" class=\"dataframe\">\n",
       "  <thead>\n",
       "    <tr style=\"text-align: right;\">\n",
       "      <th></th>\n",
       "      <th>salary</th>\n",
       "      <th>male</th>\n",
       "      <th>female</th>\n",
       "    </tr>\n",
       "  </thead>\n",
       "  <tbody>\n",
       "    <tr>\n",
       "      <th>0</th>\n",
       "      <td>75</td>\n",
       "      <td>47</td>\n",
       "      <td>68</td>\n",
       "    </tr>\n",
       "    <tr>\n",
       "      <th>1</th>\n",
       "      <td>80</td>\n",
       "      <td>26</td>\n",
       "      <td>40</td>\n",
       "    </tr>\n",
       "    <tr>\n",
       "      <th>2</th>\n",
       "      <td>85</td>\n",
       "      <td>290</td>\n",
       "      <td>272</td>\n",
       "    </tr>\n",
       "    <tr>\n",
       "      <th>3</th>\n",
       "      <td>90</td>\n",
       "      <td>102</td>\n",
       "      <td>87</td>\n",
       "    </tr>\n",
       "    <tr>\n",
       "      <th>4</th>\n",
       "      <td>95</td>\n",
       "      <td>7</td>\n",
       "      <td>8</td>\n",
       "    </tr>\n",
       "    <tr>\n",
       "      <th>5</th>\n",
       "      <td>100</td>\n",
       "      <td>24</td>\n",
       "      <td>17</td>\n",
       "    </tr>\n",
       "    <tr>\n",
       "      <th>6</th>\n",
       "      <td>110</td>\n",
       "      <td>1</td>\n",
       "      <td>0</td>\n",
       "    </tr>\n",
       "    <tr>\n",
       "      <th>7</th>\n",
       "      <td>70</td>\n",
       "      <td>0</td>\n",
       "      <td>2</td>\n",
       "    </tr>\n",
       "  </tbody>\n",
       "</table>\n",
       "</div>"
      ],
      "text/plain": [
       "   salary  male  female\n",
       "0      75    47      68\n",
       "1      80    26      40\n",
       "2      85   290     272\n",
       "3      90   102      87\n",
       "4      95     7       8\n",
       "5     100    24      17\n",
       "6     110     1       0\n",
       "7      70     0       2"
      ]
     },
     "execution_count": 9,
     "metadata": {},
     "output_type": "execute_result"
    }
   ],
   "source": [
    "deserved_group_df"
   ]
  },
  {
   "cell_type": "code",
   "execution_count": 10,
   "metadata": {},
   "outputs": [
    {
     "name": "stdout",
     "output_type": "stream",
     "text": [
      "\n",
      "Salary: 75, Z-statistic: -2.1173748381783812, P-value: 0.03422804793637907\n",
      "\n",
      "Salary: 80, Z-statistic: -1.809164907268392, P-value: 0.07042538773518037\n",
      "\n",
      "Salary: 85, Z-statistic: 1.0449479656541047, P-value: 0.29604701933843647\n",
      "\n",
      "Salary: 90, Z-statistic: 1.1666010668434625, P-value: 0.24337151231903542\n",
      "\n",
      "Salary: 95, Z-statistic: -0.2719909035774156, P-value: 0.785629013669928\n",
      "\n",
      "Salary: 100, Z-statistic: 1.096764944932852, P-value: 0.27274415792818085\n",
      "\n",
      "Salary: 110, Z-statistic: 0.9974807198723604, P-value: 0.31853122766989883\n",
      "\n",
      "Salary: 70, Z-statistic: -1.419934787251684, P-value: 0.15562666720609653\n"
     ]
    }
   ],
   "source": [
    "from statsmodels.stats.proportion import proportions_ztest\n",
    "\n",
    "nobs = np.array([total_men, total_women])\n",
    "for count, (index, row) in zip(observed_deserved, deserved_group_df.iterrows()):\n",
    "    stat, pval = proportions_ztest(count, nobs)\n",
    "    print(f\"\\nSalary: {row['salary']}, Z-statistic: {stat}, P-value: {pval}\")"
   ]
  },
  {
   "cell_type": "code",
   "execution_count": 11,
   "metadata": {},
   "outputs": [
    {
     "name": "stdout",
     "output_type": "stream",
     "text": [
      "Required sample size for salary group 75: 8456.607157543904\n",
      "Required sample size for salary group 80: 19114.001695914776\n",
      "Required sample size for salary group 85: 14508.104038319025\n",
      "Required sample size for salary group 90: 18514.529826022608\n",
      "Required sample size for salary group 95: 3526498.977985047\n",
      "Required sample size for salary group 100: 81519.03212623103\n",
      "Required sample size for salary group 110: 3877478.3710943605\n",
      "Required sample size for salary group 70: 957702.2616269999\n"
     ]
    }
   ],
   "source": [
    "from statsmodels.stats.power import zt_ind_solve_power\n",
    "# Parameters\n",
    "alpha = 0.05   # Significance level\n",
    "power = 0.80   # Power of the test\n",
    "\n",
    "for count, (index, row) in zip(observed_deserved, deserved_group_df.iterrows()):\n",
    "    p1 = count[0]/total_men\n",
    "    p2 = count[1]/total_women\n",
    "\n",
    "    effect_size = abs(p1 - p2)\n",
    "\n",
    "    # Calculate sample size per group\n",
    "    sample_size = zt_ind_solve_power(effect_size=effect_size, alpha=alpha, power=power, alternative='two-sided')\n",
    "    print(f\"Required sample size for salary group {row['salary']}: {sample_size}\")"
   ]
  },
  {
   "cell_type": "code",
   "execution_count": 12,
   "metadata": {},
   "outputs": [],
   "source": [
    "df.to_csv('salary_data.csv', index=False)"
   ]
  }
 ],
 "metadata": {
  "kernelspec": {
   "display_name": "02445",
   "language": "python",
   "name": "python3"
  },
  "language_info": {
   "codemirror_mode": {
    "name": "ipython",
    "version": 3
   },
   "file_extension": ".py",
   "mimetype": "text/x-python",
   "name": "python",
   "nbconvert_exporter": "python",
   "pygments_lexer": "ipython3",
   "version": "3.12.3"
  }
 },
 "nbformat": 4,
 "nbformat_minor": 2
}
