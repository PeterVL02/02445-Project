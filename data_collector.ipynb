{
 "cells": [
  {
   "cell_type": "code",
   "execution_count": null,
   "metadata": {},
   "outputs": [],
   "source": [
    "import data_structure as ds\n",
    "from data_structure import Gender"
   ]
  },
  {
   "cell_type": "code",
   "execution_count": null,
   "metadata": {},
   "outputs": [],
   "source": [
    "NAME = 'DIT NAVN HER'\n",
    "\n",
    "entry = ds.Entry(\n",
    "    name='John Doe',\n",
    "    gender = Gender.Male,\n",
    "    total_earnings=1000,\n",
    "    current_salary=1000,\n",
    "    raise_percentage=0.9,\n",
    "    round_ = 1\n",
    ")\n",
    "\n",
    "\n",
    "ds.commit(NAME, entry)"
   ]
  },
  {
   "cell_type": "code",
   "execution_count": null,
   "metadata": {},
   "outputs": [],
   "source": [
    "## Se din database\n",
    "df = ds.get_db(NAME)\n",
    "df.head()"
   ]
  }
 ],
 "metadata": {
  "kernelspec": {
   "display_name": "mldm",
   "language": "python",
   "name": "python3"
  },
  "language_info": {
   "codemirror_mode": {
    "name": "ipython",
    "version": 3
   },
   "file_extension": ".py",
   "mimetype": "text/x-python",
   "name": "python",
   "nbconvert_exporter": "python",
   "pygments_lexer": "ipython3",
   "version": "3.11.7"
  }
 },
 "nbformat": 4,
 "nbformat_minor": 2
}
