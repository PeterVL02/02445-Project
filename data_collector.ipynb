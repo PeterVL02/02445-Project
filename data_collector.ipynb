{
 "cells": [
  {
   "cell_type": "code",
   "execution_count": 6,
   "metadata": {},
   "outputs": [],
   "source": [
    "import data_structure as ds\n",
    "from data_structure import Gender"
   ]
  },
  {
   "cell_type": "code",
   "execution_count": 7,
   "metadata": {},
   "outputs": [],
   "source": [
    "NAME = 'DIT NAVN HER' ## Insert your name\n",
    "\n",
    "entry = ds.Entry(\n",
    "    name='John Doe',\n",
    "    gender = Gender.Male,\n",
    "    current_salary=1000,\n",
    "    deserved_salary=2000,\n",
    "    round_ = 1\n",
    ")\n",
    "\n",
    "## Commit the entry to your database\n",
    "ds.commit(NAME, entry)\n",
    "\n",
    "## Display the tail of the database\n",
    "ds.get_db(NAME).tail()"
   ]
  },
  {
   "cell_type": "code",
   "execution_count": null,
   "metadata": {},
   "outputs": [],
   "source": [
    "## Til Robin\n",
    "\n",
    "NAME = 'Robin'\n",
    "\n",
    "name_ = 'John Doe' ## Navn på observation\n",
    "currents = [] ## Indsæt current salaries\n",
    "deserveds = [] ## Indsæt deserved salaries\n",
    "ds.commit_multiple(NAME, name_, currents, deserveds, round_=1)"
   ]
  }
 ],
 "metadata": {
  "kernelspec": {
   "display_name": "mldm",
   "language": "python",
   "name": "python3"
  },
  "language_info": {
   "codemirror_mode": {
    "name": "ipython",
    "version": 3
   },
   "file_extension": ".py",
   "mimetype": "text/x-python",
   "name": "python",
   "nbconvert_exporter": "python",
   "pygments_lexer": "ipython3",
   "version": "3.11.7"
  }
 },
 "nbformat": 4,
 "nbformat_minor": 2
}
